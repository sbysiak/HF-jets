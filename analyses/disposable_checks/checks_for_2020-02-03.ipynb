{
 "cells": [
  {
   "cell_type": "code",
   "execution_count": null,
   "metadata": {
    "ExecuteTime": {
     "end_time": "2020-02-02T22:05:43.851398Z",
     "start_time": "2020-02-02T22:05:41.987158Z"
    }
   },
   "outputs": [],
   "source": [
    "import ROOT\n",
    "import os\n",
    "import glob\n",
    "%jsroot on"
   ]
  },
  {
   "cell_type": "markdown",
   "metadata": {},
   "source": [
    "# Plans for next week\n",
    "1. investigate QA for  244456 (and 244453) \n",
    "    - what to look for in case of unusually large num. jets?\n",
    "    - check triggers settings \n",
    "    - ~~plot pT/angular distr. of these jets, compare with rest or per run~~\n",
    "2. ~~study bump at IPd ~ 0.25 cm!!~~\n",
    "3. ~~check track uniformity in phi - validation for “hybrid tracks” usage~~\n",
    "4. rather small stats of pp@5.02TeV -- what with the reference for PbPb?\n",
    "   check approaches in PbPb@5.02TeV papers"
   ]
  },
  {
   "cell_type": "markdown",
   "metadata": {
    "heading_collapsed": true
   },
   "source": [
    "# Check track uniformity in $\\phi$ (Ad 3)"
   ]
  },
  {
   "cell_type": "markdown",
   "metadata": {
    "heading_collapsed": true,
    "hidden": true
   },
   "source": [
    "## whole LHC15n with hybrid tracks"
   ]
  },
  {
   "cell_type": "code",
   "execution_count": null,
   "metadata": {
    "ExecuteTime": {
     "end_time": "2020-02-02T20:42:48.703193Z",
     "start_time": "2020-02-02T20:42:48.335715Z"
    },
    "hidden": true
   },
   "outputs": [],
   "source": [
    "f = ROOT.TFile('../../HF-jets/ana_results/iter2/LHC15n/AnalysisResults.root')\n",
    "t = ROOT.gROOT.FindObject('JetTree_AliAnalysisTaskJetExtractor_Jet_AKTChargedR040_tracks_pT0150_E_scheme_allJets')"
   ]
  },
  {
   "cell_type": "code",
   "execution_count": null,
   "metadata": {
    "ExecuteTime": {
     "end_time": "2020-02-02T20:42:53.773102Z",
     "start_time": "2020-02-02T20:42:49.357872Z"
    },
    "hidden": true
   },
   "outputs": [],
   "source": [
    "# ROOT.gROOT.Reset()\n",
    "c1 = ROOT.TCanvas( 'c1', 'Example', 200, 10, 700, 500 )\n",
    "c1.Draw()\n",
    "h_jet_phi = ROOT.TH1D('h_jet_phi', 'h_jet_phi', 100, 0, 6.283)\n",
    "h_jet_phi.GetXaxis().SetTitle('jet phi')\n",
    "t.Draw('Jet_Phi >> h_jet_phi', '', 'e1x0')\n",
    "# h_jet_phi.DrawCopy()"
   ]
  },
  {
   "cell_type": "code",
   "execution_count": null,
   "metadata": {
    "ExecuteTime": {
     "end_time": "2020-02-02T20:43:05.516470Z",
     "start_time": "2020-02-02T20:42:54.489517Z"
    },
    "hidden": true
   },
   "outputs": [],
   "source": [
    "ROOT.gROOT.Reset()\n",
    "c1_2 = ROOT.TCanvas( 'c1_2', '', 200, 10, 700, 500 )\n",
    "c1_2.Draw()\n",
    "h_track_phi = ROOT.TH1D('h_track_phi', 'h_track_phi', 100, 0, 6.283)\n",
    "h_track_phi.GetXaxis().SetTitle('track phi')\n",
    "t.Draw('Jet_Track_Phi >> h_track_phi', '', 'e1x0')\n",
    "# h_phi.GetYaxis().SetRangeUser(6000,8000)\n",
    "# c1.Draw()"
   ]
  },
  {
   "cell_type": "markdown",
   "metadata": {
    "heading_collapsed": true,
    "hidden": true
   },
   "source": [
    "## Same but without hybrid tracks(?) -- filterbits(0)"
   ]
  },
  {
   "cell_type": "code",
   "execution_count": null,
   "metadata": {
    "ExecuteTime": {
     "end_time": "2020-02-02T20:43:06.676772Z",
     "start_time": "2020-02-02T20:43:06.484481Z"
    },
    "hidden": true
   },
   "outputs": [],
   "source": [
    "f_old = ROOT.TFile('../../HF-jets/ana_results/iter1/LHC15n_v2/AnalysisResults.root')\n",
    "t_old = ROOT.gROOT.FindObject('JetTree_AliAnalysisTaskJetExtractor_Jet_AKTChargedR040_tracks_pT0150_E_scheme_allJets')"
   ]
  },
  {
   "cell_type": "code",
   "execution_count": null,
   "metadata": {
    "ExecuteTime": {
     "end_time": "2020-02-02T20:43:23.631842Z",
     "start_time": "2020-02-02T20:43:08.047278Z"
    },
    "hidden": true
   },
   "outputs": [],
   "source": [
    "c1 = ROOT.TCanvas( 'c1', 'Example', 200, 10, 700, 500 )\n",
    "c1.Draw()\n",
    "h_jet_phi = ROOT.TH1D('h_jet_phi', 'h_jet_phi', 100, 0, 6.283)\n",
    "h_jet_phi.GetXaxis().SetTitle('jet phi')\n",
    "t_old.Draw('Jet_Phi >> h_jet_phi', '', 'e1x0')\n",
    "\n",
    "c1_2 = ROOT.TCanvas( 'c1_2', '', 200, 10, 700, 500 )\n",
    "c1_2.Draw()\n",
    "h_track_phi = ROOT.TH1D('h_track_phi', 'h_track_phi', 100, 0, 6.283)\n",
    "h_track_phi.GetXaxis().SetTitle('track phi')\n",
    "t_old.Draw('Jet_Track_Phi >> h_track_phi','','e1x0')"
   ]
  },
  {
   "cell_type": "markdown",
   "metadata": {
    "heading_collapsed": true,
    "hidden": true
   },
   "source": [
    "## Per run"
   ]
  },
  {
   "cell_type": "code",
   "execution_count": null,
   "metadata": {
    "ExecuteTime": {
     "end_time": "2020-02-02T20:43:42.012711Z",
     "start_time": "2020-02-02T20:43:25.001531Z"
    },
    "hidden": true
   },
   "outputs": [],
   "source": [
    "canvases = []\n",
    "data_files = glob.glob('../../HF-jets/ana_results/iter2/LHC15n/myOutputDir/*/AnalysisResults.root')\n",
    "\n",
    "for i,run_file in enumerate(data_files):\n",
    "    ROOT.gROOT.Reset()\n",
    "    print(f'{run_file}, {i+1}/{len(data_files)}')\n",
    "    run = run_file.split('/')[-2]\n",
    "    f_run = ROOT.TFile(run_file)\n",
    "    t_run = ROOT.gROOT.FindObject('JetTree_AliAnalysisTaskJetExtractor_Jet_AKTChargedR040_tracks_pT0150_E_scheme_allJets')\n",
    "    \n",
    "    \n",
    "    c = ROOT.TCanvas( 'c_'+run, 'c_'+run, 200, 10, 950, 400 )\n",
    "    c.Draw()\n",
    "    pad1 = ROOT.TPad(\"pad1\"+run, \"pad1\"+run, 0, 0, 0.5, 1)\n",
    "#     pad1.SetGridx()\n",
    "    pad1.Draw()\n",
    "    # Lower ratio plot is pad2\n",
    "    c.cd()  # returns to main canvas before defining pad2\n",
    "    pad2 = ROOT.TPad(\"pad2\"+run, \"pad2\"+run, 0.5, 0, 1, 1)\n",
    "#     pad2.SetBottomMargin(0.2)\n",
    "#     pad2.SetGridx()\n",
    "    pad2.Draw()\n",
    "    \n",
    "    \n",
    "    pad1.cd()\n",
    "    h_jet_phi = ROOT.TH1D('h_jet_phi', 'h_jet_phi', 100, 0, 6.283)\n",
    "    h_jet_phi.SetTitle(run)\n",
    "    h_jet_phi.GetXaxis().SetTitle('jet phi')\n",
    "    t_run.Draw('Jet_Phi >> h_jet_phi', '', 'goff')\n",
    "    h_jet_phi.DrawCopy('e1x0')\n",
    "\n",
    "#     c2 = ROOT.TCanvas( 'c_2_'+run, 'c_2_'+run, 200, 10, 700, 500 )\n",
    "#     c2.Draw()\n",
    "    pad2.cd()\n",
    "    h_track_phi = ROOT.TH1D('h_track_phi', 'h_track_phi', 100, 0, 6.283)\n",
    "    h_track_phi.SetTitle(run)\n",
    "    h_track_phi.GetXaxis().SetTitle('track phi')\n",
    "    t_run.Draw('Jet_Track_Phi >> h_track_phi', '', 'goff')\n",
    "    h_track_phi.DrawCopy('e1x0')\n",
    "    print('done')\n",
    "    \n",
    "#     canvases.append(c)\n",
    "#     canvases.append(c2)\n",
    "    \n",
    "# ROOT.gROOT.GetListOfCanvases().Draw()\n"
   ]
  },
  {
   "cell_type": "markdown",
   "metadata": {},
   "source": [
    "# QA for 244456 and 244453 (Ad 2)\n",
    "\n",
    "nothing suspicious in $\\eta\\;\\mathrm{vs}\\;\\phi$ and $p_T$ distributions"
   ]
  },
  {
   "cell_type": "code",
   "execution_count": null,
   "metadata": {
    "ExecuteTime": {
     "end_time": "2020-02-02T22:47:53.593850Z",
     "start_time": "2020-02-02T22:44:48.253535Z"
    }
   },
   "outputs": [],
   "source": [
    "canvases = []\n",
    "data_files = glob.glob('../../HF-jets/ana_results/iter2/LHC15n/myOutputDir/*/AnalysisResults.root')\n",
    "\n",
    "for i,run_file in enumerate(data_files):\n",
    "#     ROOT.gROOT.Reset()\n",
    "    print(f'{run_file}, {i+1}/{len(data_files)}')\n",
    "    run = run_file.split('/')[-2]\n",
    "    f_run = ROOT.TFile(run_file)\n",
    "    t_run = ROOT.gROOT.FindObject('JetTree_AliAnalysisTaskJetExtractor_Jet_AKTChargedR040_tracks_pT0150_E_scheme_allJets')\n",
    "    \n",
    "    \n",
    "    c = ROOT.TCanvas( 'c_'+run, 'c_'+run, 200, 10, 950, 400 )\n",
    "    c.Draw()\n",
    "    pad1 = ROOT.TPad(\"pad1\"+run, \"pad1\"+run, 0, 0, 0.5, 1)\n",
    "#     pad1.SetGridx()\n",
    "    pad1.Draw()\n",
    "    # Lower ratio plot is pad2\n",
    "    c.cd()  # returns to main canvas before defining pad2\n",
    "    pad2 = ROOT.TPad(\"pad2\"+run, \"pad2\"+run, 0.5, 0, 1, 1)\n",
    "#     pad2.SetBottomMargin(0.2)\n",
    "#     pad2.SetGridx()\n",
    "    pad2.Draw()\n",
    "    \n",
    "    cut = 'Jet_Pt > 5'\n",
    "    pad1.cd()\n",
    "    h_jet_phi_eta = ROOT.TH2D('h_jet_phi_eta', 'h_jet_phi_eta', 12, -0.6, 0.6, 50, 0, 6.283)\n",
    "    h_jet_phi_eta.SetTitle(run)\n",
    "    h_jet_phi_eta.GetXaxis().SetTitle('jet eta')\n",
    "    h_jet_phi_eta.GetYaxis().SetTitle('jet phi')\n",
    "    \n",
    "    t_run.Draw('Jet_Phi:Jet_Eta >> h_jet_phi_eta', cut, 'goff')\n",
    "    h_jet_phi_eta.DrawCopy('colz')\n",
    "\n",
    "#     c2 = ROOT.TCanvas( 'c_2_'+run, 'c_2_'+run, 200, 10, 700, 500 )\n",
    "#     c2.Draw()\n",
    "    pad2.cd()\n",
    "    pad2.SetLogy(1)\n",
    "#     h_jet_pt = ROOT.TH1D('h_jet_pt', 'h_jet_pt', 100, 0, 100)\n",
    "#     h_jet_pt.SetTitle(run)\n",
    "#     h_jet_pt.GetXaxis().SetTitle('jet pt')\n",
    "#     t_run.Draw('Jet_Pt >> h_jet_pt', cut, 'goff')\n",
    "#     h_jet_pt.DrawCopy()\n",
    "    h_track_ipd = ROOT.TH1D('h_track_ipd', 'h_track_ipd', 100, -1, 1)\n",
    "    h_track_ipd.SetTitle(run)\n",
    "    h_track_ipd.GetXaxis().SetTitle('track IPd')\n",
    "    t_run.Draw('Jet_Track_IPz >> h_track_ipd', cut, 'goff')\n",
    "    h_track_ipd.DrawCopy()\n",
    "\n",
    "    \n",
    "    print('done')\n",
    "    f_run.Close()\n",
    "    \n",
    "#     canvases.append(c)\n",
    "#     canvases.append(c2)\n",
    "    \n",
    "# ROOT.gROOT.GetListOfCanvases().Draw()\n"
   ]
  },
  {
   "cell_type": "markdown",
   "metadata": {},
   "source": [
    "# Bump at IPd ~ 0.25"
   ]
  },
  {
   "cell_type": "code",
   "execution_count": null,
   "metadata": {
    "ExecuteTime": {
     "end_time": "2020-02-02T20:58:41.407590Z",
     "start_time": "2020-02-02T20:58:41.397205Z"
    }
   },
   "outputs": [],
   "source": [
    "%jsroot off"
   ]
  },
  {
   "cell_type": "markdown",
   "metadata": {},
   "source": [
    "## $\\mathrm{IP}_d$ distribution split"
   ]
  },
  {
   "cell_type": "code",
   "execution_count": null,
   "metadata": {
    "ExecuteTime": {
     "end_time": "2020-02-02T21:49:02.045958Z",
     "start_time": "2020-02-02T21:49:01.782791Z"
    }
   },
   "outputs": [],
   "source": [
    "# f = ROOT.TFile('../../HF-jets/ana_results/iter2/LHC15n/myOutputDir/000244484/AnalysisResults.root')\n",
    "f = ROOT.TFile('../../HF-jets/ana_results/iter2/LHC15n/AnalysisResults.root')\n",
    "t = ROOT.gROOT.FindObject('JetTree_AliAnalysisTaskJetExtractor_Jet_AKTChargedR040_tracks_pT0150_E_scheme_allJets')"
   ]
  },
  {
   "cell_type": "code",
   "execution_count": null,
   "metadata": {
    "ExecuteTime": {
     "end_time": "2020-02-02T21:54:31.277414Z",
     "start_time": "2020-02-02T21:53:00.312407Z"
    }
   },
   "outputs": [],
   "source": [
    "c1 = ROOT.TCanvas( 'c1', 'Example', 800,600 )\n",
    "\n",
    "var = 'Jet_Track_IPd'\n",
    "args = 100, -1, 1\n",
    "histtype = ROOT.TH1D\n",
    "\n",
    "h_bump   = histtype('h_bump'  , 'h_bump'  , *args)\n",
    "h_center = histtype('h_center', 'h_center', *args)\n",
    "h_tail   = histtype('h_tail'  , 'h_tail'  , *args)\n",
    "h_neg    = histtype('h_neg'   , 'h_neg'   , *args)\n",
    "h_all    = histtype('h_all'   , 'h_all'   , *args)\n",
    "\n",
    "# h_all.GetYaxis().SetRangeUser(0,1000000)\n",
    "h_all.SetLineColor(ROOT.kBlack)\n",
    "h_center.SetLineColor(ROOT.kBlue)\n",
    "h_tail.SetLineColor(ROOT.kGreen)\n",
    "h_neg.SetLineColor(ROOT.kMagenta)\n",
    "h_bump.SetLineColor(ROOT.kRed)\n",
    "h_bump.SetLineWidth(3)\n",
    "# h_all.SetFillColor(ROOT.kBlack)\n",
    "h_center.SetFillColor(ROOT.kBlue)\n",
    "h_tail.SetFillColor(ROOT.kGreen)\n",
    "h_neg.SetFillColor(ROOT.kMagenta)\n",
    "h_bump.SetFillColor(ROOT.kRed)\n",
    "\n",
    "t.Draw(f'{var} >> h_all'   , 'Jet_Pt > 10 & Jet_Pt < 50'                                              , 'goff')\n",
    "t.Draw(f'{var} >> h_bump'  , 'Jet_Pt > 10 & Jet_Pt < 50 & Jet_Track_IPd > 0.2 & Jet_Track_IPd < 0.3'  , 'goff')\n",
    "t.Draw(f'{var} >> h_neg'   , 'Jet_Pt > 10 & Jet_Pt < 50 & Jet_Track_IPd < -0.2 & Jet_Track_IPd > -0.3', 'goff')\n",
    "t.Draw(f'{var} >> h_center', 'Jet_Pt > 10 & Jet_Pt < 50 & abs(Jet_Track_IPd) < 0.05'                  , 'goff')\n",
    "t.Draw(f'{var} >> h_tail'  , 'Jet_Pt > 10 & Jet_Pt < 50 & abs(Jet_Track_IPd) > 0.4'                   , 'goff')\n",
    "\n",
    "print(f'num. entries: \\n\\t all:   \\t{h_all.GetEntries()} \\n\\t center:\\t{h_center.GetEntries()}\\n\\t tail:  \\t{h_tail.GetEntries()}\\n\\t neg:    \\t{h_neg.GetEntries()}\\n\\t bump:  \\t{h_bump.GetEntries()}')"
   ]
  },
  {
   "cell_type": "code",
   "execution_count": null,
   "metadata": {
    "ExecuteTime": {
     "end_time": "2020-02-02T21:54:37.175103Z",
     "start_time": "2020-02-02T21:54:37.166540Z"
    }
   },
   "outputs": [],
   "source": [
    "%jsroot on"
   ]
  },
  {
   "cell_type": "code",
   "execution_count": null,
   "metadata": {
    "ExecuteTime": {
     "end_time": "2020-02-02T21:54:42.588365Z",
     "start_time": "2020-02-02T21:54:42.535699Z"
    }
   },
   "outputs": [],
   "source": [
    "c1 = ROOT.TCanvas( 'c1', 'c1', 600,400 )\n",
    "c1.Draw()\n",
    "c1.GetPad(0).SetLogy(1)\n",
    "h_all.Draw()\n",
    "# c2 = ROOT.TCanvas( 'c2', 'c2', 600,400 )\n",
    "h_center.Draw('same')\n",
    "# c3 = ROOT.TCanvas( 'c3', 'c3', 600,400 )\n",
    "h_tail.Draw('same')\n",
    "# c4 = ROOT.TCanvas( 'c4', 'c4', 600,400 )\n",
    "h_neg.Draw('same')\n",
    "# c5 = ROOT.TCanvas( 'c5', 'c5', 600,400 )\n",
    "h_bump.Draw('same')"
   ]
  },
  {
   "cell_type": "markdown",
   "metadata": {},
   "source": [
    "## $\\eta \\; \\mathrm{vs} \\;\\phi$"
   ]
  },
  {
   "cell_type": "code",
   "execution_count": null,
   "metadata": {
    "ExecuteTime": {
     "end_time": "2020-02-02T21:56:57.188138Z",
     "start_time": "2020-02-02T21:56:56.960304Z"
    }
   },
   "outputs": [],
   "source": [
    "# f = ROOT.TFile('../../HF-jets/ana_results/iter2/LHC15n/myOutputDir/000244484/AnalysisResults.root')\n",
    "f = ROOT.TFile('../../HF-jets/ana_results/iter2/LHC15n/AnalysisResults.root')\n",
    "t = ROOT.gROOT.FindObject('JetTree_AliAnalysisTaskJetExtractor_Jet_AKTChargedR040_tracks_pT0150_E_scheme_allJets')"
   ]
  },
  {
   "cell_type": "code",
   "execution_count": null,
   "metadata": {
    "ExecuteTime": {
     "end_time": "2020-02-02T21:59:05.482856Z",
     "start_time": "2020-02-02T21:57:00.395865Z"
    }
   },
   "outputs": [],
   "source": [
    "c1 = ROOT.TCanvas( 'c1', 'Example', 800,600 )\n",
    "\n",
    "\n",
    "var = 'Jet_Track_Phi : Jet_Track_Eta'\n",
    "args = 15, -1, 1, 50, 0, 6.283\n",
    "histtype=ROOT.TH2D\n",
    "\n",
    "h_bump   = histtype('h_bump'  , 'h_bump'  , *args)\n",
    "h_center = histtype('h_center', 'h_center', *args)\n",
    "h_tail   = histtype('h_tail'  , 'h_tail'  , *args)\n",
    "h_neg    = histtype('h_neg'   , 'h_neg'   , *args)\n",
    "h_all    = histtype('h_all'   , 'h_all'   , *args)\n",
    "\n",
    "# h_all.GetYaxis().SetRangeUser(0,1000000)\n",
    "h_all.SetLineColor(ROOT.kBlack)\n",
    "h_center.SetLineColor(ROOT.kBlue)\n",
    "h_tail.SetLineColor(ROOT.kGreen)\n",
    "h_neg.SetLineColor(ROOT.kMagenta)\n",
    "h_bump.SetLineColor(ROOT.kRed)\n",
    "h_bump.SetLineWidth(3)\n",
    "\n",
    "t.Draw(f'{var} >> h_all'   , 'Jet_Pt > 10 & Jet_Pt < 50'                                              , 'goff')\n",
    "t.Draw(f'{var} >> h_bump'  , 'Jet_Pt > 10 & Jet_Pt < 50 & Jet_Track_IPd > 0.2 & Jet_Track_IPd < 0.3'  , 'goff')\n",
    "t.Draw(f'{var} >> h_neg'   , 'Jet_Pt > 10 & Jet_Pt < 50 & Jet_Track_IPd < -0.2 & Jet_Track_IPd > -0.3', 'goff')\n",
    "t.Draw(f'{var} >> h_center', 'Jet_Pt > 10 & Jet_Pt < 50 & abs(Jet_Track_IPd) < 0.05'                  , 'goff')\n",
    "t.Draw(f'{var} >> h_tail'  , 'Jet_Pt > 10 & Jet_Pt < 50 & abs(Jet_Track_IPd) > 0.4'                   , 'goff')\n",
    "\n",
    "print(f'num. entries: \\n\\t all:   \\t{h_all.GetEntries()} \\n\\t center:\\t{h_center.GetEntries()}\\n\\t tail:  \\t{h_tail.GetEntries()}\\n\\t neg:    \\t{h_neg.GetEntries()}\\n\\t bump:  \\t{h_bump.GetEntries()}')"
   ]
  },
  {
   "cell_type": "code",
   "execution_count": null,
   "metadata": {
    "ExecuteTime": {
     "end_time": "2020-02-02T21:59:11.839763Z",
     "start_time": "2020-02-02T21:59:11.788783Z"
    }
   },
   "outputs": [],
   "source": [
    "c1 = ROOT.TCanvas( 'c1', 'c1', 600,400 )\n",
    "h_all.Draw('colz')\n",
    "c2 = ROOT.TCanvas( 'c2', 'c2', 600,400 )\n",
    "h_center.Draw('colz')\n",
    "c3 = ROOT.TCanvas( 'c3', 'c3', 600,400 )\n",
    "h_tail.Draw('colz')\n",
    "c4 = ROOT.TCanvas( 'c4', 'c4', 600,400 )\n",
    "h_neg.Draw('colz')\n",
    "c5 = ROOT.TCanvas( 'c5', 'c5', 600,400 )\n",
    "h_bump.Draw('colz')"
   ]
  },
  {
   "cell_type": "code",
   "execution_count": null,
   "metadata": {
    "ExecuteTime": {
     "end_time": "2020-02-02T21:59:17.893524Z",
     "start_time": "2020-02-02T21:59:17.840181Z"
    }
   },
   "outputs": [],
   "source": [
    "c1.Draw()\n",
    "c2.Draw()\n",
    "c3.Draw()\n",
    "c4.Draw()\n",
    "c5.Draw()"
   ]
  },
  {
   "cell_type": "markdown",
   "metadata": {},
   "source": [
    "## $\\phi$ distribution"
   ]
  },
  {
   "cell_type": "code",
   "execution_count": null,
   "metadata": {
    "ExecuteTime": {
     "end_time": "2020-02-02T21:59:30.436762Z",
     "start_time": "2020-02-02T21:59:30.231119Z"
    }
   },
   "outputs": [],
   "source": [
    "# f = ROOT.TFile('../../HF-jets/ana_results/iter2/LHC15n/myOutputDir/000244484/AnalysisResults.root')\n",
    "f = ROOT.TFile('../../HF-jets/ana_results/iter2/LHC15n/AnalysisResults.root')\n",
    "t = ROOT.gROOT.FindObject('JetTree_AliAnalysisTaskJetExtractor_Jet_AKTChargedR040_tracks_pT0150_E_scheme_allJets')"
   ]
  },
  {
   "cell_type": "code",
   "execution_count": null,
   "metadata": {
    "ExecuteTime": {
     "end_time": "2020-02-02T22:01:12.888192Z",
     "start_time": "2020-02-02T21:59:34.585002Z"
    }
   },
   "outputs": [],
   "source": [
    "c1 = ROOT.TCanvas( 'c1', 'Example', 800,600 )\n",
    "\n",
    "var = 'Jet_Track_Phi'\n",
    "args = 100, 0, 6.283\n",
    "histtype = ROOT.TH1D\n",
    "\n",
    "h_bump   = histtype('h_bump'  , 'h_bump'  , *args)\n",
    "h_center = histtype('h_center', 'h_center', *args)\n",
    "h_tail   = histtype('h_tail'  , 'h_tail'  , *args)\n",
    "h_neg    = histtype('h_neg'   , 'h_neg'   , *args)\n",
    "h_all    = histtype('h_all'   , 'h_all'   , *args)\n",
    "\n",
    "# h_all.GetYaxis().SetRangeUser(0,1000000)\n",
    "h_all.SetLineColor(ROOT.kBlack)\n",
    "h_center.SetLineColor(ROOT.kBlue)\n",
    "h_tail.SetLineColor(ROOT.kGreen)\n",
    "h_neg.SetLineColor(ROOT.kMagenta)\n",
    "h_bump.SetLineColor(ROOT.kRed)\n",
    "h_bump.SetLineWidth(3)\n",
    "\n",
    "t.Draw(f'{var} >> h_all'   , 'Jet_Pt > 10 & Jet_Pt < 50'                                              , 'goff')\n",
    "t.Draw(f'{var} >> h_bump'  , 'Jet_Pt > 10 & Jet_Pt < 50 & Jet_Track_IPd > 0.2 & Jet_Track_IPd < 0.3'  , 'goff')\n",
    "t.Draw(f'{var} >> h_neg'   , 'Jet_Pt > 10 & Jet_Pt < 50 & Jet_Track_IPd < -0.2 & Jet_Track_IPd > -0.3', 'goff')\n",
    "t.Draw(f'{var} >> h_center', 'Jet_Pt > 10 & Jet_Pt < 50 & abs(Jet_Track_IPd) < 0.05'                  , 'goff')\n",
    "t.Draw(f'{var} >> h_tail'  , 'Jet_Pt > 10 & Jet_Pt < 50 & abs(Jet_Track_IPd) > 0.4'                   , 'goff')\n",
    "\n",
    "print(f'num. entries: \\n\\t all:   \\t{h_all.GetEntries()} \\n\\t center:\\t{h_center.GetEntries()}\\n\\t tail:  \\t{h_tail.GetEntries()}\\n\\t neg:    \\t{h_neg.GetEntries()}\\n\\t bump:  \\t{h_bump.GetEntries()}')"
   ]
  },
  {
   "cell_type": "code",
   "execution_count": null,
   "metadata": {
    "ExecuteTime": {
     "end_time": "2020-02-02T22:01:18.530130Z",
     "start_time": "2020-02-02T22:01:18.498436Z"
    }
   },
   "outputs": [],
   "source": [
    "c1 = ROOT.TCanvas( 'c1', 'c1', 600,400 )\n",
    "h_all.Draw('colz')\n",
    "c2 = ROOT.TCanvas( 'c2', 'c2', 600,400 )\n",
    "h_center.Draw('colz')\n",
    "c3 = ROOT.TCanvas( 'c3', 'c3', 600,400 )\n",
    "h_tail.Draw('colz')\n",
    "c4 = ROOT.TCanvas( 'c4', 'c4', 600,400 )\n",
    "h_neg.Draw('colz')\n",
    "c5 = ROOT.TCanvas( 'c5', 'c5', 600,400 )\n",
    "h_bump.Draw('colz')\n",
    "\n",
    "c1.Draw()\n",
    "c2.Draw()\n",
    "c3.Draw()\n",
    "c4.Draw()\n",
    "c5.Draw()"
   ]
  },
  {
   "cell_type": "markdown",
   "metadata": {},
   "source": [
    "## $p_T$ distribution"
   ]
  },
  {
   "cell_type": "code",
   "execution_count": null,
   "metadata": {
    "ExecuteTime": {
     "end_time": "2020-02-02T21:54:47.990266Z",
     "start_time": "2020-02-02T21:54:47.769902Z"
    }
   },
   "outputs": [],
   "source": [
    "# f = ROOT.TFile('../../HF-jets/ana_results/iter2/LHC15n/myOutputDir/000244484/AnalysisResults.root')\n",
    "f = ROOT.TFile('../../HF-jets/ana_results/iter2/LHC15n/AnalysisResults.root')\n",
    "t = ROOT.gROOT.FindObject('JetTree_AliAnalysisTaskJetExtractor_Jet_AKTChargedR040_tracks_pT0150_E_scheme_allJets')"
   ]
  },
  {
   "cell_type": "code",
   "execution_count": null,
   "metadata": {
    "ExecuteTime": {
     "end_time": "2020-02-02T21:56:42.129247Z",
     "start_time": "2020-02-02T21:54:51.020072Z"
    }
   },
   "outputs": [],
   "source": [
    "c1 = ROOT.TCanvas( 'c1', 'Example', 800,600 )\n",
    "\n",
    "var = 'Jet_Track_Pt'\n",
    "args = 50, 0, 25\n",
    "histtype = ROOT.TH1D\n",
    "\n",
    "# var = 'Jet_Track_Phi : Jet_Track_Eta'\n",
    "# args = 25, -1, 1, 25, 0, 6.283\n",
    "# histtype=ROOT.TH2D\n",
    "\n",
    "h_bump   = histtype('h_bump'  , 'h_bump'  , *args)\n",
    "h_center = histtype('h_center', 'h_center', *args)\n",
    "h_tail   = histtype('h_tail'  , 'h_tail'  , *args)\n",
    "h_neg    = histtype('h_neg'   , 'h_neg'   , *args)\n",
    "h_all    = histtype('h_all'   , 'h_all'   , *args)\n",
    "\n",
    "# h_all.GetYaxis().SetRangeUser(0,1000000)\n",
    "h_all.SetLineColor(ROOT.kBlack)\n",
    "h_center.SetLineColor(ROOT.kBlue)\n",
    "h_tail.SetLineColor(ROOT.kGreen)\n",
    "h_neg.SetLineColor(ROOT.kMagenta)\n",
    "h_bump.SetLineColor(ROOT.kRed)\n",
    "h_bump.SetLineWidth(3)\n",
    "\n",
    "t.Draw(f'{var} >> h_all'   , 'Jet_Pt > 10 & Jet_Pt < 50'                                              , 'goff')\n",
    "t.Draw(f'{var} >> h_bump'  , 'Jet_Pt > 10 & Jet_Pt < 50 & Jet_Track_IPd > 0.2 & Jet_Track_IPd < 0.3'  , 'goff')\n",
    "t.Draw(f'{var} >> h_neg'   , 'Jet_Pt > 10 & Jet_Pt < 50 & Jet_Track_IPd < -0.2 & Jet_Track_IPd > -0.3', 'goff')\n",
    "t.Draw(f'{var} >> h_center', 'Jet_Pt > 10 & Jet_Pt < 50 & abs(Jet_Track_IPd) < 0.05'                  , 'goff')\n",
    "t.Draw(f'{var} >> h_tail'  , 'Jet_Pt > 10 & Jet_Pt < 50 & abs(Jet_Track_IPd) > 0.4'                   , 'goff')\n",
    "\n",
    "print(f'num. entries: \\n\\t all:   \\t{h_all.GetEntries()} \\n\\t center:\\t{h_center.GetEntries()}\\n\\t tail:  \\t{h_tail.GetEntries()}\\n\\t neg:    \\t{h_neg.GetEntries()}\\n\\t bump:  \\t{h_bump.GetEntries()}')"
   ]
  },
  {
   "cell_type": "code",
   "execution_count": null,
   "metadata": {
    "ExecuteTime": {
     "end_time": "2020-02-02T21:56:46.928159Z",
     "start_time": "2020-02-02T21:56:46.918582Z"
    }
   },
   "outputs": [],
   "source": [
    "c1 = ROOT.TCanvas( 'c1', 'c1', 600,400 )\n",
    "h_all.Draw('colz')\n",
    "c2 = ROOT.TCanvas( 'c2', 'c2', 600,400 )\n",
    "h_center.Draw('colz')\n",
    "c3 = ROOT.TCanvas( 'c3', 'c3', 600,400 )\n",
    "h_tail.Draw('colz')\n",
    "c4 = ROOT.TCanvas( 'c4', 'c4', 600,400 )\n",
    "h_neg.Draw('colz')\n",
    "c5 = ROOT.TCanvas( 'c5', 'c5', 600,400 )\n",
    "h_bump.Draw('colz')"
   ]
  },
  {
   "cell_type": "code",
   "execution_count": null,
   "metadata": {
    "ExecuteTime": {
     "end_time": "2020-02-02T21:56:52.103376Z",
     "start_time": "2020-02-02T21:56:52.056786Z"
    }
   },
   "outputs": [],
   "source": [
    "c1.GetPad(0).SetLogy(1)\n",
    "c2.GetPad(0).SetLogy(1)\n",
    "c3.GetPad(0).SetLogy(1)\n",
    "c4.GetPad(0).SetLogy(1)\n",
    "c5.GetPad(0).SetLogy(1)\n",
    "\n",
    "c1.Draw()\n",
    "c2.Draw()\n",
    "c3.Draw()\n",
    "c4.Draw()\n",
    "c5.Draw()"
   ]
  }
 ],
 "metadata": {
  "kernelspec": {
   "display_name": "Python 3",
   "language": "python",
   "name": "python3"
  },
  "language_info": {
   "codemirror_mode": {
    "name": "ipython",
    "version": 3
   },
   "file_extension": ".py",
   "mimetype": "text/x-python",
   "name": "python",
   "nbconvert_exporter": "python",
   "pygments_lexer": "ipython3",
   "version": "3.6.5"
  },
  "notify_time": "30",
  "toc": {
   "base_numbering": 1,
   "nav_menu": {},
   "number_sections": true,
   "sideBar": true,
   "skip_h1_title": false,
   "title_cell": "Table of Contents",
   "title_sidebar": "Contents",
   "toc_cell": false,
   "toc_position": {},
   "toc_section_display": true,
   "toc_window_display": false
  },
  "varInspector": {
   "cols": {
    "lenName": 16,
    "lenType": 16,
    "lenVar": 40
   },
   "kernels_config": {
    "python": {
     "delete_cmd_postfix": "",
     "delete_cmd_prefix": "del ",
     "library": "var_list.py",
     "varRefreshCmd": "print(var_dic_list())"
    },
    "r": {
     "delete_cmd_postfix": ") ",
     "delete_cmd_prefix": "rm(",
     "library": "var_list.r",
     "varRefreshCmd": "cat(var_dic_list()) "
    }
   },
   "oldHeight": 247,
   "position": {
    "height": "464.986px",
    "left": "931.994px",
    "right": "20px",
    "top": "111px",
    "width": "430.156px"
   },
   "types_to_exclude": [
    "module",
    "function",
    "builtin_function_or_method",
    "instance",
    "_Feature"
   ],
   "varInspector_section_display": "block",
   "window_display": false
  }
 },
 "nbformat": 4,
 "nbformat_minor": 2
}
