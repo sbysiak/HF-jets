{
 "cells": [
  {
   "cell_type": "markdown",
   "metadata": {
    "ExecuteTime": {
     "end_time": "2020-03-23T00:15:53.593163Z",
     "start_time": "2020-03-23T00:15:53.584515Z"
    }
   },
   "source": [
    "[LINK TO PLOTS OF TEMPLATE FITTING](#link-templates)\n",
    "---------------------------------------"
   ]
  },
  {
   "cell_type": "markdown",
   "metadata": {},
   "source": [
    "-------------------------------------------"
   ]
  },
  {
   "cell_type": "code",
   "execution_count": null,
   "metadata": {},
   "outputs": [],
   "source": [
    "from comet_ml import Experiment\n",
    "import comet_ml\n",
    "import pickle\n",
    "\n",
    "import os\n",
    "from functools import partial\n",
    "\n",
    "import uproot\n",
    "import numpy as np\n",
    "import pandas as pd\n",
    "import matplotlib.pyplot as plt\n",
    "import matplotlib as mpl\n",
    "import seaborn as sns\n",
    "\n",
    "from sklearn.model_selection import train_test_split\n",
    "from sklearn.preprocessing import StandardScaler\n",
    "from sklearn.ensemble import RandomForestClassifier\n",
    "from sklearn.metrics import accuracy_score as acc, f1_score, roc_curve, roc_auc_score, classification_report, confusion_matrix, auc\n",
    "from xgboost import XGBClassifier\n",
    "from scipy.optimize import curve_fit"
   ]
  },
  {
   "cell_type": "code",
   "execution_count": null,
   "metadata": {},
   "outputs": [],
   "source": [
    "import sys \n",
    "sys.path.append('..')\n",
    "from helper.plotting import plot_roc, plot_score_vs_pt, plot_tagging_eff, plot_confusion_matrix, plot_xgb_learning_curve, plot_score_distr, plot_signal_significance\n",
    "from helper.utils import signal_eff, get_optimal_threshold, convert_float64_to_float32, save_model, printmd"
   ]
  },
  {
   "cell_type": "code",
   "execution_count": null,
   "metadata": {},
   "outputs": [],
   "source": [
    "plt.rcParams['font.size']=16\n",
    "pd.options.display.max_columns = 200"
   ]
  },
  {
   "cell_type": "markdown",
   "metadata": {
    "heading_collapsed": true
   },
   "source": [
    "# Load data from csv"
   ]
  },
  {
   "cell_type": "code",
   "execution_count": null,
   "metadata": {},
   "outputs": [],
   "source": [
    "nrows_b    = 250000\n",
    "nrows_c    = 250000\n",
    "nrows_udsg = 250000\n",
    "\n",
    "skiprows   = 200000"
   ]
  },
  {
   "cell_type": "code",
   "execution_count": null,
   "metadata": {},
   "outputs": [],
   "source": [
    "df_b = pd.read_csv('../datasets/iter2/bjets_10-150GeV_base.csv', nrows=nrows_b, skiprows=range(1,skiprows))\n",
    "df_b['flavour'] = 'b'\n",
    "df_b = convert_float64_to_float32(df_b)"
   ]
  },
  {
   "cell_type": "code",
   "execution_count": null,
   "metadata": {},
   "outputs": [],
   "source": [
    "df_c = pd.read_csv('../datasets/iter2/cjets_10-150GeV_base.csv', nrows=nrows_c, skiprows=range(1,skiprows))\n",
    "df_c['flavour'] = 'c'\n",
    "df_c = convert_float64_to_float32(df_c)"
   ]
  },
  {
   "cell_type": "code",
   "execution_count": null,
   "metadata": {},
   "outputs": [],
   "source": [
    "df_udsg = pd.read_csv('../datasets/iter2/udsgjets_10-150GeV_base.csv', nrows=nrows_udsg, skiprows=range(1,skiprows))\n",
    "df_udsg['flavour'] = 'udsg'\n",
    "df_udsg = convert_float64_to_float32(df_udsg)"
   ]
  },
  {
   "cell_type": "markdown",
   "metadata": {
    "heading_collapsed": true
   },
   "source": [
    "# Load models from _comet.ml_\n",
    "\n",
    "TODO: \n",
    "- ?? select_best_model(metric='test_roc_auc', constrains='test_metric / train_metric < 1.05')"
   ]
  },
  {
   "cell_type": "code",
   "execution_count": null,
   "metadata": {},
   "outputs": [],
   "source": [
    "def get_model_from_exp(exp_id, model_type=XGBClassifier, featnames_type=(pd.Index, pd.Series, np.array, list), scaler_type=StandardScaler, api=comet_ml.API()):\n",
    "    exp = api.get(exp_id)\n",
    "    assets = exp.get_model_asset_list(exp.get_model_names()[0])\n",
    "    asset_id_model     = assets[  ['model' in a['fileName']     for a in assets].index(True)  ]['assetId']\n",
    "    asset_id_featnames = assets[  ['feat' in a['fileName'] for a in assets].index(True)  ]['assetId']\n",
    "    asset_id_scaler    = assets[  ['scaler' in a['fileName']    for a in assets].index(True)  ]['assetId']\n",
    "\n",
    "    model_bin = exp.get_asset(asset_id_model)\n",
    "    model = pickle.loads(model_bin)\n",
    "    assert isinstance(model, model_type)\n",
    "    \n",
    "    featnames_bin = exp.get_asset(asset_id_featnames)\n",
    "    featnames = pickle.loads(featnames_bin)\n",
    "    assert isinstance(featnames, featnames_type)\n",
    "    \n",
    "    scaler_bin = exp.get_asset(asset_id_scaler)\n",
    "    scaler = pickle.loads(scaler_bin)\n",
    "    assert isinstance(scaler, scaler_type)\n",
    "    \n",
    "    return model, np.array(featnames), scaler"
   ]
  },
  {
   "cell_type": "code",
   "execution_count": null,
   "metadata": {},
   "outputs": [],
   "source": [
    "exp_id_bc_vs_udsg = 'phd/bc-vs-udsg/bcf99db8f5a94b2184e6e13161c50bbe'\n",
    "# exp_id_bc_vs_udsg = 'phd/bc-vs-udsg/61c014a2ff7c49e8bae9ec466ffaa998'\n",
    "exp_id_b_vs_c     = 'phd/b-vs-c/3ce14e4e99d54283bc66eb24c98b6468' \n",
    "clf_bc_vs_udsg , feats_bc_vs_udsg, scaler_bc_vs_udsg = get_model_from_exp(exp_id_bc_vs_udsg)\n",
    "clf_b_vs_c     , feats_b_vs_c    , scaler_b_vs_c     = get_model_from_exp(exp_id_b_vs_c)\n",
    "feats_all = np.unique(np.hstack([feats_bc_vs_udsg, feats_b_vs_c]))\n",
    "\n",
    "def short_exp_id(exp_id):\n",
    "    return exp_id.split('/')[-1][:6]"
   ]
  },
  {
   "cell_type": "markdown",
   "metadata": {
    "heading_collapsed": true
   },
   "source": [
    "# Apply models"
   ]
  },
  {
   "cell_type": "code",
   "execution_count": null,
   "metadata": {},
   "outputs": [],
   "source": [
    "X = scaler_bc_vs_udsg.transform(df_b[feats_bc_vs_udsg])\n",
    "y_b_proba_bc_vs_udsg = clf_bc_vs_udsg.predict_proba(X)[:,1]\n",
    "X = scaler_b_vs_c.transform(df_b[feats_b_vs_c])\n",
    "y_b_proba_b_vs_c = clf_b_vs_c.predict_proba(X)[:,1]\n",
    "\n",
    "X = scaler_bc_vs_udsg.transform(df_c[feats_bc_vs_udsg])\n",
    "y_c_proba_bc_vs_udsg = clf_bc_vs_udsg.predict_proba(X)[:,1]\n",
    "X = scaler_b_vs_c.transform(df_c[feats_b_vs_c])\n",
    "y_c_proba_b_vs_c = clf_b_vs_c.predict_proba(X)[:,1]\n",
    "\n",
    "X = scaler_bc_vs_udsg.transform(df_udsg[feats_bc_vs_udsg])\n",
    "y_udsg_proba_bc_vs_udsg = clf_bc_vs_udsg.predict_proba(X)[:,1]\n",
    "X = scaler_b_vs_c.transform(df_udsg[feats_b_vs_c])\n",
    "y_udsg_proba_b_vs_c = clf_b_vs_c.predict_proba(X)[:,1]"
   ]
  },
  {
   "cell_type": "markdown",
   "metadata": {
    "heading_collapsed": true
   },
   "source": [
    "# Plot scores distributions"
   ]
  },
  {
   "cell_type": "markdown",
   "metadata": {
    "hidden": true
   },
   "source": [
    "## 2D histos / scatterplots for each flavour"
   ]
  },
  {
   "cell_type": "code",
   "execution_count": null,
   "metadata": {},
   "outputs": [],
   "source": [
    "n = 100000\n",
    "alpha = 1\n",
    "\n",
    "fig,ax = plt.subplots(figsize=(10,8))\n",
    "ax.plot(y_udsg_proba_bc_vs_udsg[:n], y_udsg_proba_b_vs_c[:n], ',', c='b', alpha=alpha)\n",
    "ax.plot(y_c_proba_bc_vs_udsg[:n], y_c_proba_b_vs_c[:n], ',', c='orange', alpha=alpha)\n",
    "ax.plot(y_b_proba_bc_vs_udsg[:n], y_b_proba_b_vs_c[:n], ',', c='r', alpha=alpha)\n",
    "ax.set_xlabel('score bc vs udsg')\n",
    "ax.set_ylabel('score b vs c')\n",
    "ax.set_xlim([0,1])\n",
    "ax.set_ylim([0,1])\n",
    "# plt.savefig(f'scores_2BDTs_all-flavours_{short_exp_id(exp_id_bc_vs_udsg)}-{short_exp_id(exp_id_b_vs_c)}.png')"
   ]
  },
  {
   "cell_type": "code",
   "execution_count": null,
   "metadata": {},
   "outputs": [],
   "source": [
    "for y_proba_bc_vs_udsg, y_proba_b_vs_c, flavour in zip(\n",
    "                                        [y_udsg_proba_bc_vs_udsg, y_c_proba_bc_vs_udsg, y_b_proba_bc_vs_udsg],\n",
    "                                        [y_udsg_proba_b_vs_c,     y_c_proba_b_vs_c,     y_b_proba_b_vs_c],\n",
    "                                        ['udsg',                  'c',                  'b'],\n",
    "                                    ):\n",
    "    plt.figure(figsize=(7,5))\n",
    "    plt.hist2d(y_proba_bc_vs_udsg, y_proba_b_vs_c, bins=50, norm=mpl.colors.LogNorm(), vmin=10, vmax=3000);\n",
    "    plt.colorbar()\n",
    "    plt.xlabel('score bc vs udsg')\n",
    "    plt.ylabel('score b vs c')\n",
    "    plt.title(f'{flavour}-jets')\n",
    "    plt.tight_layout()\n",
    "    plt.xlim([0,1])\n",
    "    plt.ylim([0,1])\n",
    "#     plt.savefig(f'scores_2BDTs_{flavour}_{short_exp_id(exp_id_bc_vs_udsg)}-{short_exp_id(exp_id_b_vs_c)}.png')\n"
   ]
  },
  {
   "cell_type": "markdown",
   "metadata": {
    "heading_collapsed": true,
    "hidden": true
   },
   "source": [
    "## Comparison with _others_"
   ]
  },
  {
   "cell_type": "markdown",
   "metadata": {
    "hidden": true
   },
   "source": [
    "### LHCb\n",
    "\n",
    "Fig. 3 in https://arxiv.org/pdf/1504.07670.pdf"
   ]
  },
  {
   "cell_type": "code",
   "execution_count": null,
   "metadata": {},
   "outputs": [],
   "source": [
    "b_eff, c_eff, udsg_eff = [], [], []\n",
    "thresholds = np.linspace(0.84, 0.99, 40)\n",
    "for t in thresholds:\n",
    "    print(t)\n",
    "    udsg_eff.append(sum(y_udsg_proba_bc_vs_udsg > t) / len(y_udsg_proba_bc_vs_udsg))\n",
    "    c_eff.append(   sum(y_c_proba_bc_vs_udsg > t)    / len(y_c_proba_bc_vs_udsg))\n",
    "    b_eff.append(   sum(y_b_proba_bc_vs_udsg > t)    / len(y_b_proba_bc_vs_udsg))"
   ]
  },
  {
   "cell_type": "code",
   "execution_count": null,
   "metadata": {},
   "outputs": [],
   "source": [
    "plt.plot(thresholds, udsg_eff, '.-')\n",
    "plt.semilogy()"
   ]
  },
  {
   "cell_type": "code",
   "execution_count": null,
   "metadata": {},
   "outputs": [],
   "source": [
    "plt.plot(udsg_eff, c_eff, '.-', c='lime', label='c-jets')\n",
    "plt.plot(udsg_eff, b_eff, 'r.-', label='b-jets')\n",
    "plt.xlabel('$udsg$ mistagging rate')\n",
    "plt.ylabel('($b,c$)-jet tag efficiency')\n",
    "plt.xlim(0,0.02)\n",
    "plt.ylim(0,1)\n",
    "plt.grid()\n",
    "plt.legend()\n",
    "plt.tight_layout()\n",
    "# plt.savefig(f'perf_comparison_LHCb_{short_exp_id(exp_id_bc_vs_udsg)}_unzoom.png')"
   ]
  },
  {
   "cell_type": "markdown",
   "metadata": {
    "hidden": true
   },
   "source": [
    "### Hadi Hassan\n",
    "\n",
    "Fig. 10 in https://alice-notes.web.cern.ch/system/files/notes/analysis/982/2019-10-06-ALICE_analysis_note.pdf"
   ]
  },
  {
   "cell_type": "code",
   "execution_count": null,
   "metadata": {},
   "outputs": [],
   "source": [
    "idx_b = df_b.query('Jet_Pt > 30 and Jet_Pt < 40').index\n",
    "idx_udsg = df_udsg.query('Jet_Pt > 30 and Jet_Pt < 40').index"
   ]
  },
  {
   "cell_type": "code",
   "execution_count": null,
   "metadata": {},
   "outputs": [],
   "source": [
    "b_eff, udsg_eff = [], []\n",
    "b_eff_3040, udsg_eff_3040 = [], []\n",
    "thresholds = np.linspace(0.001, 0.999, 50)\n",
    "for t in thresholds:\n",
    "    print(t)\n",
    "    udsg_eff.append(sum(y_udsg_proba_bc_vs_udsg > t) / len(y_udsg_proba_bc_vs_udsg))\n",
    "    b_eff.append(   sum(y_b_proba_bc_vs_udsg > t)    / len(y_b_proba_bc_vs_udsg))\n",
    "    \n",
    "    udsg_eff_3040.append(sum(y_udsg_proba_bc_vs_udsg[idx_udsg] > t) / len(y_udsg_proba_bc_vs_udsg[idx_udsg]))\n",
    "    b_eff_3040.append(   sum(y_b_proba_bc_vs_udsg[idx_b] > t)       / len(y_b_proba_bc_vs_udsg[idx_b]))"
   ]
  },
  {
   "cell_type": "code",
   "execution_count": null,
   "metadata": {},
   "outputs": [],
   "source": [
    "plt.figure(figsize=(6,7))\n",
    "plt.plot(b_eff[:-1], udsg_eff[:-1], '.-', label='$10 < p_T < 150$ GeV/c')\n",
    "plt.plot(b_eff_3040[:-1], udsg_eff_3040[:-1], '.-', label='$30 < p_T < 40$ GeV/c')\n",
    "plt.legend()\n",
    "plt.semilogy()\n",
    "plt.ylim(1e-4,1)\n",
    "plt.xlim(0,1)\n",
    "plt.xlabel('b-jets tag. eff.')\n",
    "plt.ylabel('udsg-jets mistag. rate')\n",
    "plt.grid()\n",
    "plt.scatter([0.42, 0.66, 0.865], [2.8e-2, 1.05e-1, 0.38], c=['lime', 'r', 'k'])\n",
    "plt.tight_layout()\n",
    "\n",
    "# plt.savefig(f'perf_comparison_HadiHassan_{short_exp_id(exp_id_bc_vs_udsg)}.png')"
   ]
  },
  {
   "cell_type": "markdown",
   "metadata": {
    "hidden": true
   },
   "source": [
    "### Rudiger\n",
    "\n",
    "Fig. 2 in https://arxiv.org/pdf/1709.08497.pdf"
   ]
  },
  {
   "cell_type": "code",
   "execution_count": null,
   "metadata": {},
   "outputs": [],
   "source": [
    "idx_b = df_b.query('Jet_Pt > 30 and Jet_Pt < 40').index\n",
    "idx_udsg = df_udsg.query('Jet_Pt > 30 and Jet_Pt < 40').index"
   ]
  },
  {
   "cell_type": "code",
   "execution_count": null,
   "metadata": {},
   "outputs": [],
   "source": [
    "b_eff, c_eff, udsg_eff = [], [], []\n",
    "b_eff_3040, udsg_eff_3040 = [], []\n",
    "thresholds = np.linspace(0.001, 0.999, 50)\n",
    "for t in thresholds:\n",
    "    print(t)\n",
    "    udsg_eff.append(sum(y_udsg_proba_bc_vs_udsg > t) / len(y_udsg_proba_bc_vs_udsg))\n",
    "    b_eff.append(   sum(y_b_proba_bc_vs_udsg > t)    / len(y_b_proba_bc_vs_udsg))\n",
    "    \n",
    "    udsg_eff_3040.append(sum(y_udsg_proba_bc_vs_udsg[idx_udsg] > t) / len(y_udsg_proba_bc_vs_udsg[idx_udsg]))\n",
    "    b_eff_3040.append(   sum(y_b_proba_bc_vs_udsg[idx_b] > t)       / len(y_b_proba_bc_vs_udsg[idx_b]))"
   ]
  },
  {
   "cell_type": "code",
   "execution_count": null,
   "metadata": {},
   "outputs": [],
   "source": [
    "plt.figure(figsize=(9,6))\n",
    "plt.plot(b_eff[:-1], udsg_eff[:-1], '.-', label='$10 < p_T < 150$ GeV/c')\n",
    "plt.plot(b_eff_3040[:-1], udsg_eff_3040[:-1], '.-', label='$30 < p_T < 40$ GeV/c')\n",
    "plt.legend()\n",
    "plt.semilogy()\n",
    "plt.ylim(7e-8,1)\n",
    "plt.xlim(0.14, 0.86)\n",
    "plt.xlabel('b-jets tag. eff.')\n",
    "plt.ylabel('udsg-jets mistag. rate')\n",
    "plt.grid()\n",
    "# plt.scatter([0.42, 0.66, 0.865], [2.8e-2, 1.05e-1, 0.38], c=['lime', 'r', 'k'])\n",
    "plt.tight_layout()\n",
    "plt.gca().set_yticks([1e-7, 1e-6, 1e-5, 1e-4, 1e-3, 1e-2, 1e-1, 1]);\n",
    "\n",
    "# plt.savefig(f'perf_comparison_Rudiger_{short_exp_id(exp_id_bc_vs_udsg)}.png')"
   ]
  },
  {
   "cell_type": "markdown",
   "metadata": {
    "heading_collapsed": true
   },
   "source": [
    "# Apply for data"
   ]
  },
  {
   "cell_type": "code",
   "execution_count": null,
   "metadata": {},
   "outputs": [],
   "source": [
    "# read all data and do not skip anything (nothing was used for training)\n",
    "df_data = pd.read_csv('../datasets/iter2/alljets_10-150GeV_base.csv')\n",
    "df_data['flavour'] = 'data'\n",
    "df_data = convert_float64_to_float32(df_data)"
   ]
  },
  {
   "cell_type": "code",
   "execution_count": null,
   "metadata": {},
   "outputs": [],
   "source": [
    "X = scaler_bc_vs_udsg.transform(df_data[feats_bc_vs_udsg])\n",
    "y_data_proba_bc_vs_udsg = clf_bc_vs_udsg.predict_proba(X)[:,1]\n",
    "X = scaler_b_vs_c.transform(df_data[feats_b_vs_c])\n",
    "y_data_proba_b_vs_c = clf_b_vs_c.predict_proba(X)[:,1]"
   ]
  },
  {
   "cell_type": "markdown",
   "metadata": {
    "heading_collapsed": true
   },
   "source": [
    "# Plot score distributions"
   ]
  },
  {
   "cell_type": "markdown",
   "metadata": {
    "hidden": true
   },
   "source": [
    "## score distributions -- all pT"
   ]
  },
  {
   "cell_type": "code",
   "execution_count": null,
   "metadata": {},
   "outputs": [],
   "source": [
    "kwargs = dict(bins=np.linspace(0,150,151), density=0, histtype='step' , lw=2)\n",
    "\n",
    "plt.figure(figsize=(8,5))\n",
    "plt.hist(df_udsg['Jet_Pt'], color='blue'   , label='udsg' , **kwargs);\n",
    "plt.hist(df_c['Jet_Pt'],    color='orange' , label='c'    , **kwargs);\n",
    "plt.hist(df_b['Jet_Pt'],    color='r'      , label='b'    , **kwargs);\n",
    "plt.hist(df_data['Jet_Pt'], color='k'      , label='data' , **kwargs);\n",
    "plt.legend()\n",
    "plt.grid()\n",
    "plt.semilogy()\n",
    "plt.xlabel('jet $p_T^{reco}$ [GeV/c]');\n",
    "plt.ylabel('counts');\n",
    "# plt.savefig('pT_spectrum_by_flavour.png')"
   ]
  },
  {
   "cell_type": "code",
   "execution_count": null,
   "metadata": {},
   "outputs": [],
   "source": [
    "kwargs = dict(bins=np.linspace(-0.5,39.5,41), density=1, histtype='step' , lw=2)\n",
    "var = 'Jet_NumTracks'\n",
    "\n",
    "pt_queries = ['Jet_Pt > 0 and Jet_Pt < 150', 'Jet_Pt > 10 and Jet_Pt < 20', 'Jet_Pt > 20 and Jet_Pt < 30', 'Jet_Pt > 30 and Jet_Pt < 50', 'Jet_Pt > 50 and Jet_Pt < 100']\n",
    "for query in pt_queries:\n",
    "    plt.figure(figsize=(8,5))\n",
    "    plt.hist(df_udsg[var][df_udsg.query(query).index], color='blue'   , label='udsg' , **kwargs);\n",
    "    plt.hist(df_c[var][df_c.query(query).index],    color='orange' , label='c'    , **kwargs);\n",
    "    plt.hist(df_b[var][df_b.query(query).index],    color='r'      , label='b'    , **kwargs);\n",
    "    plt.hist(df_data[var][df_data.query(query).index], color='k'      , label='data' , **kwargs);\n",
    "    plt.legend()\n",
    "    plt.grid()\n",
    "    plt.semilogy()\n",
    "    plt.xlabel('N tracks in jet');\n",
    "    plt.ylabel('probability');\n",
    "# plt.savefig('pT_spectrum_by_flavour.png')"
   ]
  },
  {
   "cell_type": "code",
   "execution_count": null,
   "metadata": {},
   "outputs": [],
   "source": [
    "kwargs = dict(bins=np.linspace(0,1,200), density=1, histtype='step' , lw=2)\n",
    "\n",
    "plt.figure(figsize=(8,5))\n",
    "plt.hist(y_udsg_proba_bc_vs_udsg, color='blue'   , label='udsg' , **kwargs);\n",
    "plt.hist(y_c_proba_bc_vs_udsg,    color='orange' , label='c'    , **kwargs);\n",
    "plt.hist(y_b_proba_bc_vs_udsg,    color='r'      , label='b'    , **kwargs);\n",
    "plt.hist(y_data_proba_bc_vs_udsg, color='k'      , label='data' , **kwargs);\n",
    "plt.legend(loc='lower center')\n",
    "plt.grid()\n",
    "plt.semilogy()\n",
    "plt.xlabel('score $bc$ vs $udsg$');\n",
    "plt.ylabel('counts');\n",
    "# plt.savefig(f'score_bc_vs_udsg_{short_exp_id(exp_id_bc_vs_udsg)}_by_flavour.png')"
   ]
  },
  {
   "cell_type": "code",
   "execution_count": null,
   "metadata": {},
   "outputs": [],
   "source": [
    "kwargs = dict(bins=np.linspace(0,1,200), density=1, histtype='step' , lw=2)\n",
    "\n",
    "plt.figure(figsize=(8,5))\n",
    "plt.hist(y_udsg_proba_b_vs_c, color='blue'   , label='udsg' , **kwargs);\n",
    "plt.hist(y_c_proba_b_vs_c,    color='orange' , label='c'    , **kwargs);\n",
    "plt.hist(y_b_proba_b_vs_c,    color='r'      , label='b'    , **kwargs);\n",
    "plt.hist(y_data_proba_b_vs_c, color='k'      , label='data' , **kwargs);\n",
    "plt.legend(loc='lower center')\n",
    "plt.grid()\n",
    "plt.semilogy()\n",
    "plt.xlabel('score $b$ vs $c$');\n",
    "plt.ylabel('counts');\n",
    "# plt.savefig(f'score_b_vs_c_{short_exp_id(exp_id_b_vs_c)}_by_flavour.png')"
   ]
  },
  {
   "cell_type": "code",
   "execution_count": null,
   "metadata": {},
   "outputs": [],
   "source": [
    "for y_proba_bc_vs_udsg, y_proba_b_vs_c, flavour in zip(\n",
    "                                        [y_data_proba_bc_vs_udsg, y_udsg_proba_bc_vs_udsg, y_c_proba_bc_vs_udsg, y_b_proba_bc_vs_udsg],\n",
    "                                        [y_data_proba_b_vs_c    , y_udsg_proba_b_vs_c,     y_c_proba_b_vs_c,     y_b_proba_b_vs_c    ],\n",
    "                                        ['data'                 , 'udsg',                  'c',                  'b'                 ],\n",
    "                                    ): \n",
    "    plt.figure(figsize=(7,5))\n",
    "    plt.hist2d(y_proba_bc_vs_udsg, y_proba_b_vs_c, bins=50, norm=mpl.colors.LogNorm(), cmin=50);\n",
    "    plt.colorbar()\n",
    "    plt.xlabel('score bc vs udsg')\n",
    "    plt.ylabel('score b vs c')\n",
    "    plt.title(f'{flavour}-jets')\n",
    "    plt.tight_layout()\n",
    "    plt.xlim([0,1])\n",
    "    plt.ylim([0,1])\n",
    "#     plt.savefig(f'scores_2BDTs_{flavour}_{short_exp_id(exp_id_bc_vs_udsg)}-{short_exp_id(exp_id_b_vs_c)}.png')\n"
   ]
  },
  {
   "cell_type": "markdown",
   "metadata": {
    "hidden": true
   },
   "source": [
    "## score distirbutions -- pT differential"
   ]
  },
  {
   "cell_type": "code",
   "execution_count": null,
   "metadata": {},
   "outputs": [],
   "source": [
    "pt_queries = ['Jet_Pt > 10 and Jet_Pt < 150', 'Jet_Pt > 10 and Jet_Pt < 20', 'Jet_Pt > 20 and Jet_Pt < 30', 'Jet_Pt > 30 and Jet_Pt < 40', 'Jet_Pt > 40 and Jet_Pt < 100']"
   ]
  },
  {
   "cell_type": "code",
   "execution_count": null,
   "metadata": {},
   "outputs": [],
   "source": [
    "kwargs = dict(bins=np.linspace(0,1,51), density=1, histtype='step' , lw=2)\n",
    "logy = 0\n",
    "\n",
    "for query in pt_queries:\n",
    "    plt.figure(figsize=(8,5))\n",
    "    plt.hist(y_udsg_proba_bc_vs_udsg[df_udsg.query(query).index], color='blue'   , label='udsg' , **kwargs);\n",
    "    plt.hist(y_c_proba_bc_vs_udsg[df_c.query(query).index],    color='orange' , label='c'    , **kwargs);\n",
    "    yrange = plt.ylim()\n",
    "    plt.hist(y_b_proba_bc_vs_udsg[df_b.query(query).index],    color='r'      , label='b'    , **kwargs);\n",
    "    plt.hist(y_data_proba_bc_vs_udsg[df_data.query(query).index], color='k'      , label='data' , **kwargs);\n",
    "    if logy:\n",
    "        plt.semilogy()\n",
    "        plt.legend(loc='lower center')\n",
    "        plt.ylim(1e-3, 1e2)\n",
    "        suffix = ''\n",
    "    else:\n",
    "        plt.legend(loc=(0.6, 0.6))\n",
    "#         plt.ylim(yrange[0], yrange[1]*1.2)\n",
    "        plt.ylim(0,10)\n",
    "        suffix = '_liny'\n",
    "    plt.grid()\n",
    "    plt.xlabel('score $bc$ vs $udsg$');\n",
    "    plt.ylabel('probability');\n",
    "    plt.text(0.05, 0.9, query, transform=plt.gca().transAxes)\n",
    "    plt.tight_layout()\n",
    "    pt_range = '-'.join([subs for subs in query.split(' ') if subs.isdigit()])\n",
    "    fname = f'score_bc_vs_udsg_{short_exp_id(exp_id_bc_vs_udsg)}_by_flavour_pt{pt_range}{suffix}.png'\n",
    "    print(fname)\n",
    "#     plt.savefig(fname)"
   ]
  },
  {
   "cell_type": "code",
   "execution_count": null,
   "metadata": {},
   "outputs": [],
   "source": [
    "kwargs = dict(bins=np.linspace(0,1,51), density=1, histtype='step' , lw=2)\n",
    "logy = 0\n",
    "\n",
    "for query in pt_queries:\n",
    "    plt.figure(figsize=(8,5))\n",
    "    plt.hist(y_udsg_proba_b_vs_c[df_udsg.query(query).index], color='blue'   , label='udsg' , **kwargs);\n",
    "    plt.hist(y_c_proba_b_vs_c[df_c.query(query).index],    color='orange' , label='c'    , **kwargs);\n",
    "    yrange = plt.ylim()\n",
    "    plt.hist(y_b_proba_b_vs_c[df_b.query(query).index],    color='r'      , label='b'    , **kwargs);\n",
    "    plt.hist(y_data_proba_b_vs_c[df_data.query(query).index], color='k'      , label='data' , **kwargs);\n",
    "    if logy:\n",
    "        plt.semilogy()\n",
    "        plt.legend(loc='lower center')\n",
    "        plt.ylim(1e-3,2e1)\n",
    "        suffix = ''\n",
    "        plt.text(0.4, 0.9, query, transform=plt.gca().transAxes)\n",
    "    else:\n",
    "        plt.legend(loc=(0.6, 0.6))\n",
    "#         plt.ylim(yrange[0], yrange[1]*1.2)\n",
    "        plt.ylim(0,10)\n",
    "        suffix = '_liny'    \n",
    "        plt.text(0.05, 0.9, query, transform=plt.gca().transAxes)\n",
    "        \n",
    "    plt.grid()\n",
    "    plt.xlabel('score $b$ vs $c$');\n",
    "    plt.ylabel('counts');\n",
    "    plt.tight_layout()\n",
    "    pt_range = '-'.join([subs for subs in query.split(' ') if subs.isdigit()])\n",
    "    fname = f'score_b_vs_c_{short_exp_id(exp_id_b_vs_c)}_by_flavour_pt{pt_range}{suffix}.png'\n",
    "    print(fname)\n",
    "#     plt.savefig(fname)"
   ]
  },
  {
   "cell_type": "code",
   "execution_count": null,
   "metadata": {},
   "outputs": [],
   "source": [
    "# for q in ['Jet_Pt < 20', 'Jet_Pt > 20 and Jet_Pt < 30', 'Jet_Pt > 30 and Jet_Pt < 50', 'Jet_Pt > 50']:\n",
    "n_bins = 15\n",
    "\n",
    "for query in pt_queries:\n",
    "    print()\n",
    "    fig, axes = plt.subplots(ncols=4, figsize=(20,5))\n",
    "    for y_proba_bc_vs_udsg, y_proba_b_vs_c, flavour, df, ax in zip(\n",
    "                                            [y_data_proba_bc_vs_udsg, y_udsg_proba_bc_vs_udsg, y_c_proba_bc_vs_udsg, y_b_proba_bc_vs_udsg],\n",
    "                                            [y_data_proba_b_vs_c    , y_udsg_proba_b_vs_c,     y_c_proba_b_vs_c,     y_b_proba_b_vs_c    ],\n",
    "                                            ['data'                 , 'udsg',                  'c',                  'b'                 ],\n",
    "                                            [df_data                ,  df_udsg               , df_c                , df_b                ],\n",
    "                                            axes,\n",
    "                                        ): \n",
    "        idx = df.query(query).index\n",
    "        cmin = int(1e-4*len(idx))\n",
    "        print(cmin)\n",
    "        ax.hist2d(y_proba_bc_vs_udsg[idx], y_proba_b_vs_c[idx], \n",
    "                  bins=[np.linspace(0,1,n_bins+1), np.linspace(0,1,n_bins+1)], \n",
    "                  norm=mpl.colors.LogNorm(), \n",
    "                  cmin=cmin,\n",
    "#                   density=1,\n",
    "#                   vmin=1e-6, vmax=1e4,\n",
    "                 );\n",
    "    #     plt.colorbar()\n",
    "        ax.set_xlabel('score bc vs udsg')\n",
    "        ax.set_ylabel('score b vs c')\n",
    "        pt_range = '-'.join([subs for subs in query.split(' ') if subs.isdigit()])\n",
    "        ax.set_title(f'{flavour}-jets pT {pt_range} GeV/c')\n",
    "        plt.tight_layout()\n",
    "        ax.set_xlim([0,1])\n",
    "        ax.set_ylim([0,1])\n",
    "        fname = f'scores_2BDTs_{short_exp_id(exp_id_bc_vs_udsg)}-{short_exp_id(exp_id_b_vs_c)}_pt{pt_range}.png'\n",
    "#         plt.savefig(fname)\n",
    "\n"
   ]
  },
  {
   "cell_type": "markdown",
   "metadata": {},
   "source": [
    "# Calculate c- and b-fractions in data"
   ]
  },
  {
   "cell_type": "markdown",
   "metadata": {
    "heading_collapsed": true
   },
   "source": [
    "## Template fit to score distribution - TOY"
   ]
  },
  {
   "cell_type": "code",
   "execution_count": null,
   "metadata": {},
   "outputs": [],
   "source": [
    "bins = np.linspace(0,1,101)\n",
    "bin_centers = (bins[:-1]+bins[1:])/2\n",
    "\n",
    "\n",
    "kwargs_np_hist = dict(bins=bins, density=0)\n",
    "counts_udsg, x = np.histogram(y_udsg_proba_bc_vs_udsg, **kwargs_np_hist)\n",
    "counts_c, x    = np.histogram(y_c_proba_bc_vs_udsg   , **kwargs_np_hist)\n",
    "counts_b, x    = np.histogram(y_b_proba_bc_vs_udsg   , **kwargs_np_hist)\n",
    "\n",
    "# y_test = y_udsg_proba_bc_vs_udsg*80 + y_c_proba_bc_vs_udsg*20 #+ y_b_proba_bc_vs_udsg*5 \n",
    "# counts_test, x    = np.histogram(y_test   , **kwargs_np_hist)\n",
    "counts_test = counts_udsg*87 + counts_c*10 + counts_b*3\n",
    "noise = np.random.randint(1,100000,len(bin_centers))-50000 #+ np.linspace(0,500000, len(bin_centers)) - 250000\n",
    "counts_test += noise.astype(int)\n",
    "\n",
    "\n",
    "\n",
    "def func(x, n_udsg, n_c, n_b):\n",
    "    counts = counts_udsg*n_udsg + counts_c*n_c + counts_b*n_b\n",
    "    ret = []\n",
    "    for x_i in x:\n",
    "        v = [c for bc, c in zip(bin_centers, counts) if abs(bc-x_i) < 1e-6][0]\n",
    "        ret.append(v)\n",
    "    return ret\n",
    "popt, pcov = curve_fit(func, bin_centers, counts_test)\n",
    "\n",
    "\n",
    "\n",
    "\n",
    "plt.figure(figsize=(8,6))\n",
    "plt.plot(bin_centers, counts_udsg, label='udsg')\n",
    "plt.plot(bin_centers, counts_c, label='c')\n",
    "plt.plot(bin_centers, counts_b, label='b')\n",
    "plt.plot(bin_centers, counts_test/100,'-', lw=2, c='k', label='artif. mix. udsg+c+b + noise')\n",
    "plt.plot(bin_centers, (counts_test-noise.astype(int))/100,'--', lw=2, c='k', label='artif. mix udsg+c+b')\n",
    "plt.semilogy()\n",
    "plt.legend()\n",
    "\n",
    "print(f'fractions from fit: {popt}')"
   ]
  },
  {
   "cell_type": "code",
   "execution_count": null,
   "metadata": {},
   "outputs": [],
   "source": []
  },
  {
   "cell_type": "code",
   "execution_count": null,
   "metadata": {},
   "outputs": [],
   "source": [
    "popt"
   ]
  },
  {
   "cell_type": "markdown",
   "metadata": {},
   "source": [
    "## Template fit to score ditribution"
   ]
  },
  {
   "cell_type": "code",
   "execution_count": null,
   "metadata": {},
   "outputs": [],
   "source": [
    "def make_fit(query, clf_type, nbins, logy, verbose=True):\n",
    "    bins = np.linspace(0,1,nbins+1)\n",
    "    bin_centers = (bins[:-1]+bins[1:])/2\n",
    "\n",
    "    kwargs_np_hist = dict(bins=bins, density=0)\n",
    "    if clf_type == 'bc_vs_udsg':\n",
    "        counts_udsg, x = np.histogram(y_udsg_proba_bc_vs_udsg[df_udsg.query(query).index] , **kwargs_np_hist)\n",
    "        counts_c, x    = np.histogram(y_c_proba_bc_vs_udsg[df_c.query(query).index]       , **kwargs_np_hist)\n",
    "        counts_b, x    = np.histogram(y_b_proba_bc_vs_udsg[df_b.query(query).index]       , **kwargs_np_hist)\n",
    "        counts_data, x = np.histogram(y_data_proba_bc_vs_udsg[df_data.query(query).index] , **kwargs_np_hist)\n",
    "    elif clf_type == 'b_vs_c':\n",
    "        counts_udsg, x = np.histogram(y_udsg_proba_b_vs_c[df_udsg.query(query).index] , **kwargs_np_hist)\n",
    "        counts_c, x    = np.histogram(y_c_proba_b_vs_c[df_c.query(query).index]       , **kwargs_np_hist)\n",
    "        counts_b, x    = np.histogram(y_b_proba_b_vs_c[df_b.query(query).index]       , **kwargs_np_hist)\n",
    "        counts_data, x = np.histogram(y_data_proba_b_vs_c[df_data.query(query).index] , **kwargs_np_hist)\n",
    "    pt_range = '-'.join([subs for subs in query.split(' ') if subs.isdigit()])\n",
    "\n",
    "    \n",
    "    def func(x, n_udsg, n_c, n_b):\n",
    "        counts = counts_udsg*n_udsg + counts_c*n_c + counts_b*n_b\n",
    "        ret = []\n",
    "        for x_i in x:\n",
    "            v = [c for bc, c in zip(bin_centers, counts) if abs(bc-x_i) < 1e-6][0]\n",
    "            ret.append(v)\n",
    "        return ret\n",
    "    \n",
    "    \n",
    "    sum_data = np.sum(counts_data)\n",
    "    sum_udsg = np.sum(counts_udsg)\n",
    "    fit_max = sum_data/sum_udsg\n",
    "    \n",
    "    sigmas = [np.sqrt(c) if c else 1e8 for c in counts_data]\n",
    "    popt, pcov = curve_fit(func, bin_centers, counts_data, sigma=sigmas, \n",
    "                           bounds=([0.7*fit_max,0,0], [fit_max,fit_max,fit_max]))\n",
    "    \n",
    "    residuals = func(bin_centers, *popt) - counts_data\n",
    "    chi2 = np.sum((residuals / sigmas)**2)\n",
    "    ndf  = len(bin_centers) - 3\n",
    "    if verbose: \n",
    "        print(f'results for pT = {pt_range},  {nbins} bins: \\n\\t\\t\\t fit_max={fit_max:.3f} raw frac. = {[round(p,4) for p in popt]}\\n\\t\\t  \\\n",
    "            frac. = {[round(p/sum(popt),3) for p in popt]} uncert. = {[round(pc/sum(popt),5) for pc in pcov[[0,1,2], [0,1,2]]]}\\n\\t\\t \\\n",
    "            chi2 / Ndf = {chi2:.1f}/{ndf} = {chi2/ndf:.1f}')\n",
    "        \n",
    "    \n",
    "    fig,axes = plt.subplots(figsize=(16,4), ncols=2)\n",
    "    kwargs_plt_hist = dict(bins=bins, density=1, histtype='step', lw=2)\n",
    "    ax = axes[0]\n",
    "    if clf_type == 'bc_vs_udsg':\n",
    "        ax.hist(y_udsg_proba_bc_vs_udsg[df_udsg.query(query).index] , **kwargs_plt_hist, color='b', label='udsg')\n",
    "        ax.hist(y_c_proba_bc_vs_udsg[df_c.query(query).index]       , **kwargs_plt_hist, color='orange', label='c')\n",
    "        ax.hist(y_b_proba_bc_vs_udsg[df_b.query(query).index]       , **kwargs_plt_hist, color='r', label='r')\n",
    "        ax.hist(y_data_proba_bc_vs_udsg[df_data.query(query).index] , **kwargs_plt_hist, color='k', label='data')\n",
    "        axes[0].set_xlabel('score $bc$-vs-$udsg$')\n",
    "        axes[1].set_xlabel('score $bc$-vs-$udsg$')\n",
    "    elif clf_type == 'b_vs_c':\n",
    "        ax.hist(y_udsg_proba_b_vs_c[df_udsg.query(query).index] , **kwargs_plt_hist, color='b', label='udsg')\n",
    "        ax.hist(y_c_proba_b_vs_c[df_c.query(query).index]       , **kwargs_plt_hist, color='orange', label='c')\n",
    "        ax.hist(y_b_proba_b_vs_c[df_b.query(query).index]       , **kwargs_plt_hist, color='r', label='r')\n",
    "        ax.hist(y_data_proba_b_vs_c[df_data.query(query).index] , **kwargs_plt_hist, color='k', label='data')\n",
    "        axes[0].set_xlabel('score $b$-vs-$c$')\n",
    "        axes[1].set_xlabel('score $b$-vs-$c$')\n",
    "        \n",
    "    if logy:\n",
    "        ax.legend(loc='lower center')\n",
    "        ax.semilogy()\n",
    "    else:\n",
    "        ax.legend(loc='upper left')\n",
    "        ax.set_ylim(0, 10)\n",
    "\n",
    "    ax = axes[1]\n",
    "    ax.bar(bin_centers, counts_udsg*popt[0], 1/len(bin_centers)                                             , label='udsg', color='b', alpha=0.5)\n",
    "    ax.bar(bin_centers, counts_c*popt[1]   , 1/len(bin_centers), bottom=counts_udsg*popt[0]                 , label='c', color='orange', alpha=0.7)\n",
    "    ax.bar(bin_centers, counts_b*popt[2]   , 1/len(bin_centers), bottom=counts_udsg*popt[0]+counts_c*popt[1], label='b', color='r', alpha=0.8)\n",
    "    ax.errorbar(bin_centers, counts_data, yerr=np.sqrt(counts_data), fmt='o', color='k', alpha=0.8, label='data')\n",
    "    if logy:\n",
    "        ax.legend(loc='lower center')\n",
    "        ax.semilogy()\n",
    "        txt_pos = 0.98, 0.9\n",
    "    else:\n",
    "        ax.legend(loc='upper right')\n",
    "        txt_pos = 0.98, 0.4\n",
    "        \n",
    "    ax.text(*txt_pos, f'chi2/Ndf = {chi2/ndf:.1f}', \n",
    "            transform=ax.transAxes, \n",
    "            fontsize=12, horizontalalignment='right',\n",
    "           bbox=dict(facecolor='white', alpha=0.2)\n",
    "           )        \n",
    "    \n",
    "    plt.suptitle(query)\n",
    "    return axes\n",
    "    "
   ]
  },
  {
   "cell_type": "markdown",
   "metadata": {},
   "source": [
    "<a name=\"link-templates\">\n",
    "LINK TO HERE\n",
    "</a>"
   ]
  },
  {
   "cell_type": "markdown",
   "metadata": {},
   "source": [
    "### Plots of template fitting"
   ]
  },
  {
   "cell_type": "markdown",
   "metadata": {},
   "source": [
    "below you can find plots of fitting data score distribution to templates coming from MC.  \n",
    "Templates are shown on the left and fitted distribution on the right.   \n",
    "There are plots for:\n",
    "- scores distribution of both models: _bc-vs-udsg_ and _b-vs-c_\n",
    "- with linear and log y-scale\n",
    "- for 4 $p_T$ bins: 10-20, 20-30, 30-40 and 40-100 GeV/c"
   ]
  },
  {
   "cell_type": "markdown",
   "metadata": {},
   "source": [
    "**bc-vs-udsg (linscale)**"
   ]
  },
  {
   "cell_type": "code",
   "execution_count": null,
   "metadata": {},
   "outputs": [],
   "source": [
    "for query in pt_queries[1:]:\n",
    "    make_fit(query, clf_type='bc_vs_udsg', nbins=50, logy=0, verbose=0)"
   ]
  },
  {
   "cell_type": "markdown",
   "metadata": {},
   "source": [
    "**bc-vs-udsg (logscale)**"
   ]
  },
  {
   "cell_type": "code",
   "execution_count": null,
   "metadata": {},
   "outputs": [],
   "source": [
    "for query in pt_queries[1:]:\n",
    "    make_fit(query, clf_type='bc_vs_udsg', nbins=50, logy=1, verbose=0)"
   ]
  },
  {
   "cell_type": "markdown",
   "metadata": {},
   "source": [
    "**b-vs-c (linscale)**"
   ]
  },
  {
   "cell_type": "code",
   "execution_count": null,
   "metadata": {},
   "outputs": [],
   "source": [
    "for query in pt_queries[1:]:\n",
    "    make_fit(query, clf_type='b_vs_c', nbins=50, logy=0, verbose=0)"
   ]
  },
  {
   "cell_type": "markdown",
   "metadata": {},
   "source": [
    "**b-vs-c (logscale)**"
   ]
  },
  {
   "cell_type": "code",
   "execution_count": null,
   "metadata": {},
   "outputs": [],
   "source": [
    "for query in pt_queries[1:]:\n",
    "    make_fit(query, clf_type='b_vs_c', nbins=50, logy=1, verbose=0)"
   ]
  },
  {
   "cell_type": "markdown",
   "metadata": {
    "heading_collapsed": true
   },
   "source": [
    "### Uncertainty of the fit estimation by param. variation"
   ]
  },
  {
   "cell_type": "code",
   "execution_count": null,
   "metadata": {},
   "outputs": [],
   "source": [
    "def func(x, n_udsg, n_c, n_b):\n",
    "    counts = counts_udsg*n_udsg + counts_c*n_c + counts_b*n_b\n",
    "    ret = []\n",
    "    for x_i in x:\n",
    "        v = [c for bc, c in zip(bin_centers, counts) if abs(bc-x_i) < 1e-6][0]\n",
    "        ret.append(v)\n",
    "    return ret\n",
    "\n",
    "\n",
    "\n",
    "# nbins = 20\n",
    "logy = 0\n",
    "dpt = 0.1\n",
    "\n",
    "fit_res = dict()\n",
    "\n",
    "for query_unvaried in pt_queries[1:]:\n",
    "    print()\n",
    "    lim1,lim2 = [int(x) for x in np.array(query_unvaried.split(' '))[[2,6]]]\n",
    "    fit_res[(lim1,lim2)] = dict(udsg=[], c=[], b=[])\n",
    "    for lim1_varied in [lim1, lim1*(1+dpt), lim1*(1-dpt)]:\n",
    "        for lim2_varied in [lim2, lim2*(1+dpt), lim2*(1-dpt)]:\n",
    "            for nbins in [30, 50, 100]:\n",
    "                query = f'Jet_Pt > {lim1_varied:.1f} and Jet_Pt < {lim2_varied:.1f}'\n",
    "\n",
    "                bins = np.linspace(0,1,nbins+1)\n",
    "                bin_centers = (bins[:-1]+bins[1:])/2\n",
    "\n",
    "                kwargs_np_hist = dict(bins=bins, density=0)\n",
    "#                 counts_udsg, x = np.histogram(y_udsg_proba_bc_vs_udsg[df_udsg.query(query).index] , **kwargs_np_hist)\n",
    "#                 counts_c, x    = np.histogram(y_c_proba_bc_vs_udsg[df_c.query(query).index]       , **kwargs_np_hist)\n",
    "#                 counts_b, x    = np.histogram(y_b_proba_bc_vs_udsg[df_b.query(query).index]       , **kwargs_np_hist)\n",
    "#                 counts_data, x = np.histogram(y_data_proba_bc_vs_udsg[df_data.query(query).index] , **kwargs_np_hist)\n",
    "\n",
    "                counts_udsg, x = np.histogram(y_udsg_proba_b_vs_c[df_udsg.query(query).index] , **kwargs_np_hist)\n",
    "                counts_c, x    = np.histogram(y_c_proba_b_vs_c[df_c.query(query).index]       , **kwargs_np_hist)\n",
    "                counts_b, x    = np.histogram(y_b_proba_b_vs_c[df_b.query(query).index]       , **kwargs_np_hist)\n",
    "                counts_data, x = np.histogram(y_data_proba_b_vs_c[df_data.query(query).index] , **kwargs_np_hist)\n",
    "\n",
    "                pt_range = '-'.join([subs for subs in query.split(' ') if subs.isdigit()])\n",
    "\n",
    "                sum_data = np.sum(counts_data)\n",
    "                sum_udsg = np.sum(counts_udsg)\n",
    "                fit_max = sum_data/sum_udsg\n",
    "                \n",
    "                sigmas = [np.sqrt(c) if c else 1e8 for c in counts_data]\n",
    "                popt, pcov = curve_fit(func, bin_centers, counts_data, sigma=sigmas, \n",
    "                                       bounds=([fit_max*0.7, 0, 0], fit_max))\n",
    "\n",
    "                residuals = func(bin_centers, *popt) - counts_data\n",
    "                chi2 = np.sum((residuals / sigmas)**2)\n",
    "                ndf  = len(bin_centers) - 3\n",
    "                \n",
    "                print(f'q={query}, nbins={nbins}: \\tchi2/Ndf = {chi2/ndf:.1f} \\t frac = {[round(p/sum(popt),3) for p in popt]}')\n",
    "               \n",
    "                fit_res[(lim1,lim2)]['udsg'].append(popt[0]/sum(popt))\n",
    "                fit_res[(lim1,lim2)]['c'].append(popt[1]/sum(popt))\n",
    "                fit_res[(lim1,lim2)]['b'].append(popt[2]/sum(popt))\n",
    "#                 print(f'results for pT = {pt_range},  {nbins} bins: {[round(p,4) for p in popt]} {[round(p/sum(popt),3) for p in popt]}\\t{[round(pc/sum(popt),5) for pc in pcov[[0,1,2], [0,1,2]]]}')\n"
   ]
  },
  {
   "cell_type": "code",
   "execution_count": null,
   "metadata": {},
   "outputs": [],
   "source": [
    "x1,x2 = [],[]\n",
    "x = []\n",
    "xerr = []\n",
    "y = []\n",
    "yerr = []\n",
    "for k,v in fit_res.items():\n",
    "    print(k)\n",
    "    x1.append(k[0])\n",
    "    x2.append(k[1])\n",
    "    x.append((k[0]+k[1])/2)\n",
    "    xerr.append((k[1]-k[0])/2)\n",
    "    r = v['c']\n",
    "    y.append(np.median(r))\n",
    "    yerr.append(np.std(r))\n",
    "#     yerr.append(np.percentile(r,75) - np.percentile(r,25))\n",
    "    \n",
    "plt.figure(figsize=(6,5))\n",
    "plt.errorbar(x,y,yerr=yerr,xerr=xerr, fmt='o');\n",
    "plt.ylim(bottom=0)\n",
    "plt.grid()\n",
    "plt.xlabel('$p_T^{\\,jet}$ [GeV/c]');\n",
    "plt.ylabel('$c$-fraction')\n",
    "plt.title('based on template fit to $b$-vs-$c$ score distr.', fontsize=12)\n",
    "plt.tight_layout()\n",
    "# plt.savefig('c-frac_template-fit_b-vs-c.png')"
   ]
  },
  {
   "cell_type": "code",
   "execution_count": null,
   "metadata": {},
   "outputs": [],
   "source": [
    "fit_res[(30,40)]['b']"
   ]
  },
  {
   "cell_type": "code",
   "execution_count": null,
   "metadata": {},
   "outputs": [],
   "source": [
    "plt.hist(fit_res[(30,40)]['c'], bins=10);"
   ]
  }
 ],
 "metadata": {
  "kernelspec": {
   "display_name": "Python 3",
   "language": "python",
   "name": "python3"
  },
  "language_info": {
   "codemirror_mode": {
    "name": "ipython",
    "version": 3
   },
   "file_extension": ".py",
   "mimetype": "text/x-python",
   "name": "python",
   "nbconvert_exporter": "python",
   "pygments_lexer": "ipython3",
   "version": "3.6.5"
  },
  "toc": {
   "base_numbering": 1,
   "nav_menu": {},
   "number_sections": true,
   "sideBar": true,
   "skip_h1_title": false,
   "title_cell": "Table of Contents",
   "title_sidebar": "Contents",
   "toc_cell": false,
   "toc_position": {
    "height": "593px",
    "left": "81px",
    "top": "95px",
    "width": "304.391px"
   },
   "toc_section_display": true,
   "toc_window_display": false
  },
  "varInspector": {
   "cols": {
    "lenName": 16,
    "lenType": 16,
    "lenVar": 40
   },
   "kernels_config": {
    "python": {
     "delete_cmd_postfix": "",
     "delete_cmd_prefix": "del ",
     "library": "var_list.py",
     "varRefreshCmd": "print(var_dic_list())"
    },
    "r": {
     "delete_cmd_postfix": ") ",
     "delete_cmd_prefix": "rm(",
     "library": "var_list.r",
     "varRefreshCmd": "cat(var_dic_list()) "
    }
   },
   "types_to_exclude": [
    "module",
    "function",
    "builtin_function_or_method",
    "instance",
    "_Feature"
   ],
   "window_display": false
  }
 },
 "nbformat": 4,
 "nbformat_minor": 2
}
