{
 "cells": [
  {
   "cell_type": "code",
   "execution_count": null,
   "metadata": {
    "ExecuteTime": {
     "end_time": "2020-02-06T15:42:42.225166Z",
     "start_time": "2020-02-06T15:42:38.670202Z"
    }
   },
   "outputs": [],
   "source": [
    "import ROOT\n",
    "%jsroot on\n",
    "\n",
    "import os\n",
    "import glob\n",
    "\n",
    "import uproot\n",
    "import numpy as np\n",
    "import matplotlib.pyplot as plt"
   ]
  },
  {
   "cell_type": "code",
   "execution_count": null,
   "metadata": {
    "ExecuteTime": {
     "end_time": "2020-02-06T15:42:42.516431Z",
     "start_time": "2020-02-06T15:42:42.497095Z"
    }
   },
   "outputs": [],
   "source": [
    "def format_num(n):\n",
    "    if n > 1e7: return f'{n/1e6:.0f}M'\n",
    "    if n > 1e6: return f'{n/1e6:.1f}M'\n",
    "    if n > 1e4: return f'{n/1e3:.0f}k'\n",
    "    if n > 1e3: return f'{n/1e3:.1f}k'\n",
    "    else: return f'{n}'\n",
    "    \n",
    "# format_num(12345678)"
   ]
  },
  {
   "cell_type": "markdown",
   "metadata": {},
   "source": [
    "# Plans for next week\n",
    "1. compare phi distribution with MC  \n",
    "   total and 1 uniform and 1 non-uniform runs - how well are they reproduced\n",
    "2. QA for  244456 (and 244453) \n",
    "    - check triggers settings - it should not be the case as the pT spectra does not differ\n",
    "    - check global event properties: event multiplicities, event vertex distr.\n",
    "    - check RCT & logbook\n",
    "3. rather small stats of pp@5.02TeV -- what with the reference for PbPb?  \n",
    "   check approaches in PbPb@5.02TeV papers"
   ]
  },
  {
   "cell_type": "markdown",
   "metadata": {},
   "source": [
    "# Compare $\\phi$ distribution with MC"
   ]
  },
  {
   "cell_type": "markdown",
   "metadata": {},
   "source": [
    "## LHC15n only"
   ]
  },
  {
   "cell_type": "code",
   "execution_count": null,
   "metadata": {
    "ExecuteTime": {
     "end_time": "2020-02-06T15:53:26.161186Z",
     "start_time": "2020-02-06T15:53:25.959878Z"
    }
   },
   "outputs": [],
   "source": [
    "f = ROOT.TFile('../../HF-jets/ana_results/iter2/LHC15n/AnalysisResults.root')\n",
    "t = ROOT.gROOT.FindObject('JetTree_AliAnalysisTaskJetExtractor_Jet_AKTChargedR040_tracks_pT0150_E_scheme_allJets')"
   ]
  },
  {
   "cell_type": "code",
   "execution_count": null,
   "metadata": {
    "ExecuteTime": {
     "end_time": "2020-02-06T15:53:34.673986Z",
     "start_time": "2020-02-06T15:53:29.639800Z"
    }
   },
   "outputs": [],
   "source": [
    "# ROOT.gROOT.Reset()\n",
    "c1 = ROOT.TCanvas( 'c1', 'Example', 200, 10, 700, 500 )\n",
    "c1.Draw()\n",
    "h_jet_phi = ROOT.TH1D('h_jet_phi', 'h_jet_phi', 100, 0, 6.283)\n",
    "h_jet_phi.GetXaxis().SetTitle('jet phi')\n",
    "t.Draw('Jet_Phi >> h_jet_phi', '', 'e1x0')\n",
    "# h_jet_phi.DrawCopy()"
   ]
  },
  {
   "cell_type": "code",
   "execution_count": null,
   "metadata": {
    "ExecuteTime": {
     "end_time": "2020-02-06T15:53:51.210979Z",
     "start_time": "2020-02-06T15:53:38.597845Z"
    }
   },
   "outputs": [],
   "source": [
    "ROOT.gROOT.Reset()\n",
    "c1_2 = ROOT.TCanvas( 'c1_2', '', 200, 10, 700, 500 )\n",
    "c1_2.Draw()\n",
    "h_track_phi = ROOT.TH1D('h_track_phi', 'h_track_phi', 100, 0, 6.283)\n",
    "h_track_phi.GetXaxis().SetTitle('track phi')\n",
    "t.Draw('Jet_Track_Phi >> h_track_phi', '', 'e1x0')\n",
    "# h_phi.GetYaxis().SetRangeUser(6000,8000)\n",
    "# c1.Draw()"
   ]
  },
  {
   "cell_type": "markdown",
   "metadata": {},
   "source": [
    "## Is phi oscillations amplitude dependend on $p_T$ ???"
   ]
  },
  {
   "cell_type": "code",
   "execution_count": null,
   "metadata": {
    "ExecuteTime": {
     "end_time": "2020-02-06T15:58:08.711244Z",
     "start_time": "2020-02-06T15:57:48.510179Z"
    }
   },
   "outputs": [],
   "source": [
    "nbins = 90\n",
    "\n",
    "f = ROOT.TFile(f'../../HF-jets/ana_results/iter2/LHC16h3/ptbin15/AnalysisResults.root')\n",
    "t = ROOT.gROOT.FindObject('JetTree_AliAnalysisTaskJetExtractor_Jet_AKTChargedR040_tracks_pT0150_E_scheme_udsgJets')\n",
    "\n",
    "\n",
    "c1 = ROOT.TCanvas( 'c1', 'Example', 900, 500 )\n",
    "c1.Draw()\n",
    "\n",
    "h1 = ROOT.TH1D('h1', 'h1', nbins, 0, 6.283)\n",
    "h2 = ROOT.TH1D('h2', 'h2', nbins, 0, 6.283)\n",
    "h3 = ROOT.TH1D('h3', 'h3', nbins, 0, 6.283)\n",
    "h1.SetLineColor(ROOT.kBlue)\n",
    "h2.SetLineColor(ROOT.kRed)\n",
    "h3.SetLineColor(ROOT.kBlack)\n",
    "t.Draw(f'Jet_Track_Phi >> h1', 'Jet_Track_Pt < 1', 'goff')\n",
    "t.Draw(f'Jet_Track_Phi >> h2', 'Jet_Track_Pt > 1 & Jet_Track_Pt < 3', 'goff')\n",
    "t.Draw(f'Jet_Track_Phi >> h3', 'Jet_Track_Pt > 3', 'goff')\n",
    "\n",
    "print(f'N entries: {format_num(h1.GetEntries())}, {format_num(h2.GetEntries())}, {format_num(h3.GetEntries())}')\n",
    "h1.SetTitle('pT < 1')\n",
    "h2.SetTitle('1 < pT < 3')\n",
    "h3.SetTitle('pT > 3')\n",
    "\n",
    "h1.Scale(1/h1.Integral())\n",
    "h2.Scale(1/h2.Integral())\n",
    "h3.Scale(1/h3.Integral())\n",
    "\n",
    "h3.Draw('le')\n",
    "h2.Draw('le,same')\n",
    "h1.Draw('le,same')\n",
    "\n",
    "\n",
    "c1.GetPad(0).BuildLegend(0.55, 0.775, 0.78, 0.935)"
   ]
  },
  {
   "cell_type": "markdown",
   "metadata": {},
   "source": [
    "## whole LHC15n vs MC (LHC16h3)"
   ]
  },
  {
   "cell_type": "markdown",
   "metadata": {},
   "source": [
    "### No cut"
   ]
  },
  {
   "cell_type": "code",
   "execution_count": null,
   "metadata": {
    "ExecuteTime": {
     "end_time": "2020-02-06T15:59:02.669686Z",
     "start_time": "2020-02-06T15:58:16.127541Z"
    }
   },
   "outputs": [],
   "source": [
    "nbins = 90\n",
    "cut = ''\n",
    "\n",
    "f_data = ROOT.TFile('../../HF-jets/ana_results/iter2/LHC15n/AnalysisResults.root')\n",
    "t_data = ROOT.gROOT.FindObject('JetTree_AliAnalysisTaskJetExtractor_Jet_AKTChargedR040_tracks_pT0150_E_scheme_allJets')\n",
    "\n",
    "\n",
    "c1 = ROOT.TCanvas( 'c1', 'Example', 900, 500 )\n",
    "c1.Draw()\n",
    "h_track_phi = ROOT.TH1D('h_data', 'h_data', nbins, 0, 6.283)\n",
    "h_track_phi.SetTitle('data LHC15n')\n",
    "h_track_phi.GetXaxis().SetTitle('track phi')\n",
    "h_track_phi.SetLineColor(2)\n",
    "h_track_phi.SetLineWidth(4)\n",
    "\n",
    "t_data.Draw('Jet_Track_Phi >> h_data', cut, 'e,goff')\n",
    "h_track_phi.Scale(1./h_track_phi.Integral())\n",
    "h_track_phi.SetMinimum(1/nbins*0.8)\n",
    "h_track_phi.SetMaximum(1/nbins*1.2)\n",
    "h_track_phi.Draw('le')\n",
    "\n",
    "\n",
    "\n",
    "ROOT.gStyle.SetPalette(55)\n",
    "for i,ptbin in enumerate([ '10', '15']):\n",
    "    f_mc = ROOT.TFile(f'../../HF-jets/ana_results/iter2/LHC16h3/ptbin{ptbin}/AnalysisResults.root')\n",
    "    t_mc = ROOT.gROOT.FindObject('JetTree_AliAnalysisTaskJetExtractor_Jet_AKTChargedR040_tracks_pT0150_E_scheme_udsgJets')\n",
    "    h_track_phi_mc = ROOT.TH1D(f'h_mc_ptbin{ptbin}', f'h_mc_ptbin{ptbin}', nbins, 0, 6.283)\n",
    "    h_track_phi_mc.SetLineColor(ROOT.gStyle.GetColorPalette(i*150))\n",
    "    h_track_phi_mc.SetLineWidth(2)\n",
    "    t_mc.Draw(f'Jet_Track_Phi >> h_mc_ptbin{ptbin}', cut, 'e,goff')\n",
    "    h_track_phi_mc.Scale(1./h_track_phi_mc.Integral())\n",
    "    h_track_phi_mc.DrawCopy('le,same')\n",
    "\n",
    "    \n",
    "c1.GetPad(0).BuildLegend(0.55, 0.775, 0.78, 0.935)"
   ]
  },
  {
   "cell_type": "markdown",
   "metadata": {},
   "source": [
    "### Low pT"
   ]
  },
  {
   "cell_type": "code",
   "execution_count": null,
   "metadata": {
    "ExecuteTime": {
     "end_time": "2020-02-06T15:59:40.380026Z",
     "start_time": "2020-02-06T15:59:11.706110Z"
    }
   },
   "outputs": [],
   "source": [
    "nbins = 90\n",
    "cut = 'Jet_Track_Pt < 1'\n",
    "\n",
    "f_data = ROOT.TFile('../../HF-jets/ana_results/iter2/LHC15n/AnalysisResults.root')\n",
    "t_data = ROOT.gROOT.FindObject('JetTree_AliAnalysisTaskJetExtractor_Jet_AKTChargedR040_tracks_pT0150_E_scheme_allJets')\n",
    "\n",
    "\n",
    "c1 = ROOT.TCanvas( 'c1', 'Example', 900, 500 )\n",
    "c1.Draw()\n",
    "h_track_phi = ROOT.TH1D('h_data', 'h_data', nbins, 0, 6.283)\n",
    "h_track_phi.SetTitle('data LHC15n')\n",
    "h_track_phi.GetXaxis().SetTitle('track phi')\n",
    "h_track_phi.SetLineColor(2)\n",
    "h_track_phi.SetLineWidth(4)\n",
    "\n",
    "t_data.Draw('Jet_Track_Phi >> h_data', cut, 'e,goff')\n",
    "h_track_phi.Scale(1./h_track_phi.Integral())\n",
    "h_track_phi.SetMinimum(1/nbins*0.8)\n",
    "h_track_phi.SetMaximum(1/nbins*1.2)\n",
    "h_track_phi.Draw('le')\n",
    "\n",
    "\n",
    "\n",
    "ROOT.gStyle.SetPalette(55)\n",
    "for i,ptbin in enumerate([ '10', '15']):\n",
    "    f_mc = ROOT.TFile(f'../../HF-jets/ana_results/iter2/LHC16h3/ptbin{ptbin}/AnalysisResults.root')\n",
    "    t_mc = ROOT.gROOT.FindObject('JetTree_AliAnalysisTaskJetExtractor_Jet_AKTChargedR040_tracks_pT0150_E_scheme_udsgJets')\n",
    "    h_track_phi_mc = ROOT.TH1D(f'h_mc_ptbin{ptbin}', f'h_mc_ptbin{ptbin}', nbins, 0, 6.283)\n",
    "    h_track_phi_mc.SetLineColor(ROOT.gStyle.GetColorPalette(i*150))\n",
    "    h_track_phi_mc.SetLineWidth(2)\n",
    "    t_mc.Draw(f'Jet_Track_Phi >> h_mc_ptbin{ptbin}', cut, 'e,goff')\n",
    "    h_track_phi_mc.Scale(1./h_track_phi_mc.Integral())\n",
    "    h_track_phi_mc.DrawCopy('le,same')\n",
    "\n",
    "    \n",
    "c1.GetPad(0).BuildLegend(0.55, 0.775, 0.78, 0.935)"
   ]
  },
  {
   "cell_type": "markdown",
   "metadata": {},
   "source": [
    "## Per run"
   ]
  },
  {
   "cell_type": "markdown",
   "metadata": {},
   "source": [
    "### No cut"
   ]
  },
  {
   "cell_type": "code",
   "execution_count": null,
   "metadata": {
    "ExecuteTime": {
     "end_time": "2020-02-06T16:00:06.506220Z",
     "start_time": "2020-02-06T15:59:47.091809Z"
    }
   },
   "outputs": [],
   "source": [
    "nbins = 90\n",
    "cut = ''\n",
    "\n",
    "for run in [r[3:] for r in os.listdir('../../HF-jets/ana_results/iter2/LHC15n/myOutputDir/') if r.startswith('000')]:\n",
    "    print(f'run = {run}')\n",
    "    f_data = ROOT.TFile(f'../../HF-jets/ana_results/iter2/LHC15n/myOutputDir/000{run}/AnalysisResults.root')\n",
    "    t_data = ROOT.gROOT.FindObject('JetTree_AliAnalysisTaskJetExtractor_Jet_AKTChargedR040_tracks_pT0150_E_scheme_allJets')\n",
    "\n",
    "    # ROOT.gROOT.Reset()\n",
    "    c1 = ROOT.TCanvas( 'c1'+run, 'c1'+run, 900, 500 )\n",
    "    c1.Draw()\n",
    "    h_track_phi = ROOT.TH1D('h_data', 'h_data', nbins, 0, 6.283)\n",
    "    h_track_phi.GetXaxis().SetTitle(f'track phi')\n",
    "    h_track_phi.SetTitle(f'track phi {run}')\n",
    "    h_track_phi.SetLineColor(2)\n",
    "    h_track_phi.SetLineWidth(3)\n",
    "\n",
    "    t_data.Draw('Jet_Track_Phi >> h_data', cut, 'e,goff')\n",
    "    n = h_track_phi.GetEntries()\n",
    "    print(f'\\t N entries = {format_num(n)} \\t err ~ {np.sqrt(n/nbins)/(n/nbins)*100:.1f}%')    \n",
    "    h_track_phi.Scale(nbins/h_track_phi.Integral())\n",
    "    h_track_phi.SetMinimum(nbins/nbins*0.91)\n",
    "    h_track_phi.SetMaximum(nbins/nbins*1.09)\n",
    "    h_track_phi.DrawCopy('le')\n",
    "\n",
    "\n",
    "    ROOT.gStyle.SetPalette(55)\n",
    "    for i,ptbin in enumerate([ '10', '15']):\n",
    "        try:\n",
    "            f_mc = ROOT.TFile(f'../../HF-jets/ana_results/iter2/LHC16h3/ptbin{ptbin}/myOutputDir/{run}/AnalysisResults.root')\n",
    "            t_mc = ROOT.gROOT.FindObject('JetTree_AliAnalysisTaskJetExtractor_Jet_AKTChargedR040_tracks_pT0150_E_scheme_udsgJets')\n",
    "            h_track_phi_mc = ROOT.TH1D(f'h_mc_ptbin{ptbin}', f'h_mc_ptbin{ptbin}', nbins, 0, 6.283)\n",
    "            h_track_phi_mc.SetLineColor(ROOT.gStyle.GetColorPalette(i*200))\n",
    "            h_track_phi.SetLineWidth(2)\n",
    "            t_mc.Draw(f'Jet_Track_Phi >> h_mc_ptbin{ptbin}', cut, 'e,goff')\n",
    "        except: \n",
    "            f_mc.Close()\n",
    "            continue\n",
    "        n = float(h_track_phi_mc.GetEntries())\n",
    "        print(f'\\t N entries ({ptbin}) = {format_num(n)} \\t err ~ {np.sqrt(n/nbins)/(n/nbins)*100:.1f}%')\n",
    "        h_track_phi_mc.Scale(nbins/h_track_phi_mc.Integral())\n",
    "        opt='le,same'\n",
    "        h_track_phi_mc.DrawCopy(opt)\n",
    "        f_mc.Close()\n",
    "    c1.GetPad(0).BuildLegend(0.55, 0.775, 0.78, 0.935)\n",
    "    f_data.Close()"
   ]
  },
  {
   "cell_type": "markdown",
   "metadata": {},
   "source": [
    "### Low pT"
   ]
  },
  {
   "cell_type": "code",
   "execution_count": null,
   "metadata": {
    "ExecuteTime": {
     "end_time": "2020-02-06T16:21:12.690181Z",
     "start_time": "2020-02-06T16:20:44.431998Z"
    }
   },
   "outputs": [],
   "source": [
    "nbins = 90\n",
    "cut = 'Jet_Track_Pt < 1'\n",
    "\n",
    "\n",
    "for run in [r[3:] for r in os.listdir('../../HF-jets/ana_results/iter2/LHC15n/myOutputDir/') if r.startswith('000')]:\n",
    "    print(f'run = {run}')\n",
    "    f_data = ROOT.TFile(f'../../HF-jets/ana_results/iter2/LHC15n/myOutputDir/000{run}/AnalysisResults.root')\n",
    "    t_data = ROOT.gROOT.FindObject('JetTree_AliAnalysisTaskJetExtractor_Jet_AKTChargedR040_tracks_pT0150_E_scheme_allJets')\n",
    "\n",
    "    # ROOT.gROOT.Reset()\n",
    "    c1 = ROOT.TCanvas( 'c1'+run, 'c1'+run, 900, 500 )\n",
    "    c1.Draw()\n",
    "    h_track_phi = ROOT.TH1D('h_data', 'h_data', nbins, 0, 6.283)\n",
    "    h_track_phi.GetXaxis().SetTitle(f'track phi')\n",
    "    h_track_phi.SetTitle(f'track phi {run}')\n",
    "    h_track_phi.SetLineColor(2)\n",
    "    h_track_phi.SetLineWidth(3)\n",
    "\n",
    "    t_data.Draw('Jet_Track_Phi >> h_data', cut, 'e,goff')\n",
    "    n = h_track_phi.GetEntries()\n",
    "    print(f'\\t N entries = {format_num(n)} \\t err ~ {np.sqrt(n/nbins)/(n/nbins)*100:.1f}%')    \n",
    "    h_track_phi.Scale(nbins/h_track_phi.Integral())\n",
    "    h_track_phi.SetMinimum(nbins/nbins*0.91)\n",
    "    h_track_phi.SetMaximum(nbins/nbins*1.09)\n",
    "    h_track_phi.DrawCopy('le')\n",
    "\n",
    "\n",
    "    ROOT.gStyle.SetPalette(55)\n",
    "    for i,ptbin in enumerate([ '10', '15']):\n",
    "        try:\n",
    "            f_mc = ROOT.TFile(f'../../HF-jets/ana_results/iter2/LHC16h3/ptbin{ptbin}/myOutputDir/{run}/AnalysisResults.root')\n",
    "            t_mc = ROOT.gROOT.FindObject('JetTree_AliAnalysisTaskJetExtractor_Jet_AKTChargedR040_tracks_pT0150_E_scheme_udsgJets')\n",
    "            h_track_phi_mc = ROOT.TH1D(f'h_mc_ptbin{ptbin}', f'h_mc_ptbin{ptbin}', nbins, 0, 6.283)\n",
    "            h_track_phi_mc.SetLineColor(ROOT.gStyle.GetColorPalette(i*200))\n",
    "            h_track_phi.SetLineWidth(2)\n",
    "            t_mc.Draw(f'Jet_Track_Phi >> h_mc_ptbin{ptbin}', cut, 'e,goff')\n",
    "        except: \n",
    "            f_mc.Close()\n",
    "            continue\n",
    "        n = float(h_track_phi_mc.GetEntries())\n",
    "        print(f'\\t N entries ({ptbin}) = {format_num(n)} \\t err ~ {np.sqrt(n/nbins)/(n/nbins)*100:.1f}%')\n",
    "        h_track_phi_mc.Scale(nbins/h_track_phi_mc.Integral())\n",
    "        opt='le,same'\n",
    "        h_track_phi_mc.DrawCopy(opt)\n",
    "        f_mc.Close()\n",
    "    c1.GetPad(0).BuildLegend(0.55, 0.775, 0.78, 0.935)\n",
    "    f_data.Close()"
   ]
  },
  {
   "cell_type": "markdown",
   "metadata": {},
   "source": [
    "# QA for 244456 and 244453 (Ad 2)\n",
    "\n"
   ]
  },
  {
   "cell_type": "markdown",
   "metadata": {
    "heading_collapsed": true
   },
   "source": [
    "## Event properties"
   ]
  },
  {
   "cell_type": "code",
   "execution_count": null,
   "metadata": {
    "ExecuteTime": {
     "end_time": "2020-02-06T15:40:03.332357Z",
     "start_time": "2020-02-06T15:40:02.105679Z"
    },
    "hidden": true
   },
   "outputs": [],
   "source": [
    "%jsroot off"
   ]
  },
  {
   "cell_type": "code",
   "execution_count": null,
   "metadata": {
    "ExecuteTime": {
     "end_time": "2020-02-06T15:40:19.721132Z",
     "start_time": "2020-02-06T15:40:03.619282Z"
    },
    "hidden": true
   },
   "outputs": [],
   "source": [
    "data_files = glob.glob('../../HF-jets/ana_results/iter2/LHC15n/myOutputDir/*/AnalysisResults.root')\n",
    "\n",
    "for i,run_file in [f for f in enumerate(data_files)]:\n",
    "#     ROOT.gROOT.Reset()\n",
    "    print(f'{run_file}, {i+1}/{len(data_files)}')\n",
    "    run = run_file.split('/')[-2]\n",
    "    f_run = ROOT.TFile(run_file)\n",
    "    f_run.Close() \n",
    "    # kernel sometimes crashes...\n",
    "#     continue\n",
    "    f_run = ROOT.TFile(run_file)\n",
    "\n",
    "#     continue\n",
    "    t_run = ROOT.gROOT.FindObject('JetTree_AliAnalysisTaskJetExtractor_Jet_AKTChargedR040_tracks_pT0150_E_scheme_allJets')\n",
    "    \n",
    "    \n",
    "    c = ROOT.TCanvas( 'c_'+run, 'c_'+run, 200, 10, 950, 400 )\n",
    "    c.Draw()\n",
    "    pad1 = ROOT.TPad(\"pad1\"+run, \"pad1\"+run, 0, 0, 0.5, 1)\n",
    "#     pad1.SetGridx()\n",
    "    pad1.Draw()\n",
    "    # Lower ratio plot is pad2\n",
    "    c.cd()  # returns to main canvas before defining pad2\n",
    "    pad2 = ROOT.TPad(\"pad2\"+run, \"pad2\"+run, 0.5, 0, 1, 1)\n",
    "#     pad2.SetBottomMargin(0.2)\n",
    "#     pad2.SetGridx()\n",
    "    pad2.Draw()\n",
    "    \n",
    "    cut = 'Jet_Pt > 5'\n",
    "    pad1.cd()\n",
    "    h_2d = ROOT.TH2D('h_2d', 'h_2d', 100, 0.29, 0.38, 100, 0.02, 0.13)\n",
    "    h_2d.SetTitle(run)\n",
    "    h_2d.GetXaxis().SetTitle('vertex X')\n",
    "    h_2d.GetYaxis().SetTitle('vertex Y')\n",
    "    \n",
    "    t_run.Draw('Event_Vertex_X:Event_Vertex_Y >> h_2d', cut, 'goff')\n",
    "    h_2d.DrawCopy('colz')\n",
    "\n",
    "#     c2 = ROOT.TCanvas( 'c_2_'+run, 'c_2_'+run, 200, 10, 700, 500 )\n",
    "#     c2.Draw()\n",
    "    pad2.cd()\n",
    "    pad2.SetLogy(1)\n",
    "#     h_jet_pt = ROOT.TH1D('h_jet_pt', 'h_jet_pt', 100, 0, 100)\n",
    "#     h_jet_pt.SetTitle(run)\n",
    "#     h_jet_pt.GetXaxis().SetTitle('jet pt')\n",
    "#     t_run.Draw('Jet_Pt >> h_jet_pt', cut, 'goff')\n",
    "#     h_jet_pt.DrawCopy()\n",
    "    h1 = ROOT.TH1D('h1', 'h1', 100, 0, 100)\n",
    "    h1.SetTitle(run)\n",
    "    h1.GetXaxis().SetTitle('event multiplicity')\n",
    "    t_run.Draw('Event_Multiplicity >> h1', cut, 'goff')\n",
    "    h1.DrawCopy()\n",
    "\n",
    "    \n",
    "    print('done')\n",
    "    f_run.Close()\n",
    "    \n",
    "#     canvases.append(c)\n",
    "#     canvases.append(c2)\n",
    "    \n",
    "# ROOT.gROOT.GetListOfCanvases().Draw()\n"
   ]
  },
  {
   "cell_type": "markdown",
   "metadata": {},
   "source": [
    "## Position of 244456 on the distirbution"
   ]
  },
  {
   "cell_type": "code",
   "execution_count": null,
   "metadata": {
    "ExecuteTime": {
     "end_time": "2020-02-06T15:42:46.810850Z",
     "start_time": "2020-02-06T15:42:46.792916Z"
    }
   },
   "outputs": [],
   "source": [
    "def read_branch(datafiles, jet_type, var, entrystop=None, entrystart=None, verbose=False, apply_func=None, cache=None):\n",
    "    \n",
    "    if hasattr(datafiles, '__iter__') and type(datafiles) != str:\n",
    "        # multiple datafiles\n",
    "        vals = np.array([])\n",
    "        for f in datafiles:\n",
    "            if verbose: print(f)\n",
    "            kwargs = dict(datafiles=f, jet_type=jet_type, var=var, entrystop=entrystop, entrystart=entrystart, verbose=verbose, apply_func=apply_func, cache=cache)\n",
    "            v = read_branch(**kwargs)\n",
    "            vals = np.hstack([vals, v])\n",
    "        return vals\n",
    "            \n",
    "    # single datafile\n",
    "    froot = uproot.open(datafiles)\n",
    "    if any(['JetPY' in str(k) for k in froot.keys()]):\n",
    "        tree_name_core = 'JetTree_AliAnalysisTaskJetExtractor_JetPY_AKTChargedR040_tracks_pT0150_E_scheme_'\n",
    "    else: \n",
    "        tree_name_core = 'JetTree_AliAnalysisTaskJetExtractor_Jet_AKTChargedR040_tracks_pT0150_E_scheme_'\n",
    "        \n",
    "    if apply_func:\n",
    "        v0 = froot[tree_name_core+jet_type].array(var, flatten=False, entrystop=entrystop, entrystart=entrystart, cache=cache)\n",
    "        vals = [apply_func(arr) if len(arr) else 0 for arr in v0]\n",
    "    else:\n",
    "        vals = froot[tree_name_core+jet_type].array(var, flatten=True  , entrystop=entrystop, entrystart=entrystart, cache=cache)\n",
    "\n",
    "    return vals"
   ]
  },
  {
   "cell_type": "code",
   "execution_count": null,
   "metadata": {
    "ExecuteTime": {
     "end_time": "2020-02-06T15:53:23.605704Z",
     "start_time": "2020-02-06T15:52:31.989287Z"
    }
   },
   "outputs": [],
   "source": [
    "data_files = glob.glob('../../HF-jets/ana_results/iter2/LHC15n/myOutputDir/*/AnalysisResults.root')\n",
    "for var in ['Event_Vertex_X', 'Event_Vertex_Y', 'Event_Multiplicity', \n",
    "#             'Event_BackgroundDensity', 'Event_BackgroundDensityMass',\n",
    "            'Jet_Pt', \n",
    "            'Jet_Phi', 'Jet_Eta', \n",
    "            'Jet_Area', \n",
    "            'Jet_NumTracks',\n",
    "            'Jet_NumSecVertices',]:\n",
    "    \n",
    "    print(var)\n",
    "    means, stds = [], []\n",
    "    for f in data_files:\n",
    "        vals = read_branch(f, 'allJets', var)\n",
    "        mean, std = np.mean(vals), np.std(vals)\n",
    "        means.append(mean)\n",
    "        stds.append(std)\n",
    "#         print(f'{f.split(\"000\")[1][:6]}: {mean:.4f}, {std:.4f}')\n",
    "        \n",
    "        if '244456' in f: mean244456, std244456 = mean, std\n",
    "        if '244453' in f: mean244453, std244453 = mean, std\n",
    "        \n",
    "    fig,axes = plt.subplots(ncols=2, figsize=(10,5))\n",
    "    axes[0].hist(means, bins=15, histtype='step', linewidth=2)\n",
    "    axes[1].hist(stds, bins=15, histtype='step', linewidth=2)\n",
    "    axes[0].set_title('mean')\n",
    "    axes[1].set_title('std')\n",
    "    fig.suptitle(var)\n",
    "    \n",
    "    xlim, ylim = axes[0].get_xlim(), axes[0].get_ylim()\n",
    "    deltax, deltay = xlim[1] - xlim[0] , ylim[1] - ylim[0]\n",
    "#     axes[0].set_xlim(xlim[0]-0.2*deltax, xlim[1]+0.2*deltax)\n",
    "    axes[0].arrow(mean244456, ylim[1], 0, -0.4*deltay, width=0.02*deltax, head_width=0.05*deltax, head_length=0.05*deltay, color='red')\n",
    "    axes[0].arrow(mean244453, ylim[1], 0, -0.4*deltay, width=0.015*deltax, head_width=0.04*deltax, head_length=0.05*deltay, color='orange')\n",
    "              \n",
    "    xlim, ylim = axes[1].get_xlim(), axes[1].get_ylim()\n",
    "    deltax, deltay = xlim[1] - xlim[0] , ylim[1] - ylim[0]\n",
    "#     axes[1].set_xlim(xlim[0]-0.2*deltax, xlim[1]+0.2*deltax)\n",
    "    axes[1].arrow(std244456, ylim[1], 0, -0.4*deltay, width=0.02*deltax, head_width=0.05*deltax, head_length=0.05*deltay, color='red')\n",
    "    axes[1].arrow(std244453, ylim[1], 0, -0.4*deltay, width=0.015*deltax, head_width=0.04*deltax, head_length=0.05*deltay, color='orange')\n",
    "              "
   ]
  },
  {
   "cell_type": "code",
   "execution_count": null,
   "metadata": {},
   "outputs": [],
   "source": []
  }
 ],
 "metadata": {
  "kernelspec": {
   "display_name": "Python 3",
   "language": "python",
   "name": "python3"
  },
  "language_info": {
   "codemirror_mode": {
    "name": "ipython",
    "version": 3
   },
   "file_extension": ".py",
   "mimetype": "text/x-python",
   "name": "python",
   "nbconvert_exporter": "python",
   "pygments_lexer": "ipython3",
   "version": "3.6.5"
  },
  "notify_time": "30",
  "toc": {
   "base_numbering": 1,
   "nav_menu": {},
   "number_sections": true,
   "sideBar": true,
   "skip_h1_title": false,
   "title_cell": "Table of Contents",
   "title_sidebar": "Contents",
   "toc_cell": false,
   "toc_position": {},
   "toc_section_display": true,
   "toc_window_display": true
  },
  "varInspector": {
   "cols": {
    "lenName": 16,
    "lenType": 16,
    "lenVar": 40
   },
   "kernels_config": {
    "python": {
     "delete_cmd_postfix": "",
     "delete_cmd_prefix": "del ",
     "library": "var_list.py",
     "varRefreshCmd": "print(var_dic_list())"
    },
    "r": {
     "delete_cmd_postfix": ") ",
     "delete_cmd_prefix": "rm(",
     "library": "var_list.r",
     "varRefreshCmd": "cat(var_dic_list()) "
    }
   },
   "oldHeight": 247,
   "position": {
    "height": "464.986px",
    "left": "931.994px",
    "right": "20px",
    "top": "111px",
    "width": "430.156px"
   },
   "types_to_exclude": [
    "module",
    "function",
    "builtin_function_or_method",
    "instance",
    "_Feature"
   ],
   "varInspector_section_display": "block",
   "window_display": false
  }
 },
 "nbformat": 4,
 "nbformat_minor": 2
}
