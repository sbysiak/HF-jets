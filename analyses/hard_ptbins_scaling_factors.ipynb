{
 "cells": [
  {
   "cell_type": "code",
   "execution_count": null,
   "metadata": {},
   "outputs": [],
   "source": [
    "import uproot as uproot3\n",
    "import ROOT"
   ]
  },
  {
   "cell_type": "code",
   "execution_count": null,
   "metadata": {},
   "outputs": [],
   "source": [
    "from glob import glob"
   ]
  },
  {
   "cell_type": "markdown",
   "metadata": {},
   "source": [
    "Scaling factors are stored in `fHistXsection`, which is TProfile object.  \n",
    "It makes obtaining its values using `uproot` problematic as its does not have fields containing values which are shown after plotting.\n",
    "\n",
    "They can be however calculated based on other fields as `hist._fTsumwy / hist._fTsumw`   \n",
    "which agrees with suggestion here: https://stackoverflow.com/questions/58541426/loading-tprofile-in-uproot-issue-getting-y-values  \n",
    "and with $\\texttt{TProfile}$ docs: https://root.cern.ch/doc/master/classTProfile.html#ada88934586554394904cf4b85d8ce39e\n",
    "\n",
    "The values however slightly differ from what is plotted in ROOT (`h->GetBinContent(i)`) (differences ~ 0.4-0.7%)   \n",
    "\n",
    "\n",
    "for **LHC16h3** the **calculated** values are:  \n",
    "\n",
    "     'ptbin1': 16.054692265163954,\n",
    "     'ptbin2': 4.599556358210402,\n",
    "     'ptbin3': 2.1449183859321876,\n",
    "     'ptbin4': 0.7804427076089806,\n",
    "     'ptbin5': 0.26417809194471015,\n",
    "     'ptbin6': 0.09738198949503354,\n",
    "     'ptbin7': 0.02920915652260396,\n",
    "     'ptbin8': 0.009867379547080737,\n",
    "     'ptbin9': 0.0040377202366385515,\n",
    "     'ptbin10': 0.001350376192733647,\n",
    "     'ptbin11': 0.0005286526390493335,\n",
    "     'ptbin12': 0.00018789783969057545,\n",
    "     'ptbin13': 9.194764462105562e-05,\n",
    "     'ptbin14': 4.2784775394613205e-05,\n",
    "     'ptbin15': 2.0871151551456155e-05\n",
    " \n",
    " while plotting in **ROOT** shows:\n",
    " \n",
    "    'ptbin1' :16.14,\n",
    "    'ptbin2' : 4.626,\n",
    "    'ptbin3' : 2.158,\n",
    "    'ptbin4' : 0.78583,\n",
    "    'ptbin5' : 0.26581,\n",
    "    'ptbin6' : 0.097988,\n",
    "    'ptbin7' : 0.0294,\n",
    "    'ptbin8' : 0.009909,\n",
    "    'ptbin9' : 0.0040611,\n",
    "    'ptbin10': 0.0013595,\n",
    "    'ptbin11': 0.00053207,\n",
    "    'ptbin12': 0.00018912,\n",
    "    'ptbin13': 0.00009255,\n",
    "    'ptbin14': 0.00004305,\n",
    "    'ptbin15': 0.00002100,\n",
    "\n",
    "which corresponds to **differeces** (no abs taken so the differences are consistently higher/lower):\n",
    "\n",
    "    ptbin1 0.53%\n",
    "    ptbin2 0.57%\n",
    "    ptbin3 0.61%\n",
    "    ptbin4 0.69%\n",
    "    ptbin5 0.61%\n",
    "    ptbin6 0.62%\n",
    "    ptbin7 0.65%\n",
    "    ptbin8 0.42%\n",
    "    ptbin9 0.58%\n",
    "    ptbin10 0.67%\n",
    "    ptbin11 0.64%\n",
    "    ptbin12 0.65%\n",
    "    ptbin13 0.65%\n",
    "    ptbin14 0.62%\n",
    "    ptbin15 0.61%"
   ]
  },
  {
   "cell_type": "markdown",
   "metadata": {},
   "source": [
    "## obtain scaling factors"
   ]
  },
  {
   "cell_type": "code",
   "execution_count": null,
   "metadata": {},
   "outputs": [],
   "source": [
    "# HARD-CODED from fHistXsection values for given ptbins\n",
    "#  ------- LHC16h3 ----------\n",
    "scaling_factor = {\n",
    "    'ptbin1' :16.14,\n",
    "    'ptbin2' : 4.626,\n",
    "    'ptbin3' : 2.158,\n",
    "    'ptbin4' : 0.78583,\n",
    "    'ptbin5' : 0.26581,\n",
    "    'ptbin6' : 0.097988,\n",
    "    'ptbin7' : 0.0294,\n",
    "    'ptbin8' : 0.009909,\n",
    "    'ptbin9' : 0.0040611,\n",
    "    'ptbin10': 0.0013595,\n",
    "    'ptbin11': 0.00053207,\n",
    "    'ptbin12': 0.00018912,\n",
    "    'ptbin13': 0.00009255,\n",
    "    'ptbin14': 0.00004305,\n",
    "    'ptbin15': 0.00002100,\n",
    "}"
   ]
  },
  {
   "cell_type": "code",
   "execution_count": null,
   "metadata": {},
   "outputs": [],
   "source": [
    "def read_event_hist(fpath, jet_flavour, hist_name='fHistXsection'):\n",
    "    hist_dir_name = f'AliAnalysisTaskJetExtractor_Jet_AKTChargedR040_tracks_pT0150_E_scheme_{jet_flavour}Jets_histos'\n",
    "    froot = uproot3.open(fpath)\n",
    "    hist_dir = froot['ChargedJetsHadronCF'][hist_dir_name]\n",
    "    hist = [h for h in  hist_dir if hist_name in str(h.name)][0]\n",
    "    return hist._fTsumwy/hist._fTsumw\n",
    "\n",
    "\n",
    "scaling_factor_calc = dict()\n",
    "for fpath in sorted(glob('../ana_results/iter3/LHC16h3/ptbin*/AnalysisResults.root'), key=lambda x: -int(x.split('/')[-2][5:]))[::-1]:\n",
    "    ptbin = fpath.split('/')[-2]\n",
    "    scaling_factor_calc[ptbin] = read_event_hist(fpath, 'udsg', 'fHistXsection')\n",
    "    \n",
    "scaling_factor_calc"
   ]
  },
  {
   "cell_type": "code",
   "execution_count": null,
   "metadata": {},
   "outputs": [],
   "source": [
    "# calculated relative differences (no abs!)\n",
    "for ptbin in scaling_factor.keys():\n",
    "    print(ptbin, f'{(scaling_factor[ptbin]-scaling_factor_calc[ptbin])/scaling_factor[ptbin]*100:.2f}%')"
   ]
  },
  {
   "cell_type": "markdown",
   "metadata": {},
   "source": [
    "## plot $p_T$ of the initial hard process"
   ]
  },
  {
   "cell_type": "code",
   "execution_count": null,
   "metadata": {},
   "outputs": [],
   "source": [
    "%jsroot on\n",
    "c = ROOT.TCanvas(\"myCanvasName\",\"The Canvas Title\",800,400)\n",
    "\n",
    "start = True\n",
    "for fpath in sorted(glob('../ana_results/iter3/LHC16h3/ptbin*/AnalysisResults.root'), key=lambda x: -int(x.split('/')[-2][5:])):\n",
    "    ptbin = fpath.split('/')[-2]    \n",
    "    tree_name = 'JetTree_AliAnalysisTaskJetExtractor_Jet_AKTChargedR040_tracks_pT0150_E_scheme_udsgJets'\n",
    "    froot = ROOT.TFile(fpath)\n",
    "    tree = froot.Get(tree_name)\n",
    "    h = ROOT.TH1D(f'h_{ptbin}', f'h_{ptbin}', 25000,0,250)\n",
    "    tree.Draw(f\"Event_PtHard >> h_{ptbin}\", \"\", \"goff\")\n",
    "    h.Scale(scaling_factor[ptbin])  # hardcoded\n",
    "#     h.Scale(scaling_factor_calc[ptbin]) # calculated\n",
    "    if start: \n",
    "        h.SetMaximum(1e6)\n",
    "        h.DrawCopy(\"HIST\")\n",
    "    else: \n",
    "        h.DrawCopy(\"HIST,SAME\")\n",
    "    start = False\n",
    "\n",
    "c.SetLogy()\n",
    "c.Draw()"
   ]
  },
  {
   "cell_type": "markdown",
   "metadata": {},
   "source": [
    "## plot $p_T$ of the jets\n",
    "\n",
    "_large jumps come from single large-pt jet created in low hard pt bin and therefore scaled by huge factor_"
   ]
  },
  {
   "cell_type": "code",
   "execution_count": null,
   "metadata": {},
   "outputs": [],
   "source": [
    "%jsroot on\n",
    "c = ROOT.TCanvas(\"myCanvasName\",\"The Canvas Title\",800,400)\n",
    "\n",
    "start = True\n",
    "for fpath in sorted(glob('../ana_results/iter3/LHC16h3/ptbin*/AnalysisResults.root'), key=lambda x: -int(x.split('/')[-2][5:])):\n",
    "    ptbin = fpath.split('/')[-2]\n",
    "    print(fpath,ptbin)\n",
    "    \n",
    "    tree_name = 'JetTree_AliAnalysisTaskJetExtractor_Jet_AKTChargedR040_tracks_pT0150_E_scheme_udsgJets'\n",
    "    froot = ROOT.TFile(fpath)\n",
    "    tree = froot.Get(tree_name)\n",
    "    h = ROOT.TH1D(f'h_{ptbin}', f'h_{ptbin}', 200,0,200)\n",
    "    tree.Draw(f\"Jet_Pt >> h_{ptbin}\", \"\", \"goff\")\n",
    "    h.Scale(scaling_factor[ptbin])  # hardcoded\n",
    "#     h.Scale(scaling_factor_calc[ptbin]) # calculated\n",
    "    if start: \n",
    "        h.SetMaximum(1e8)\n",
    "        h_total = h.Clone()\n",
    "        h_total.SetDirectory(0) # prevents from deleting it from the scope after closing currently opened file\n",
    "        h_total.SetTitle('h_total')\n",
    "        h_total.SetName('h_total')\n",
    "#         h.DrawCopy(\"E0\")\n",
    "    else: \n",
    "        h_total.Add(h)\n",
    "#         h.DrawCopy(\"E0,SAME\")\n",
    "    start = False\n",
    "h_total.Draw(\"E0, SAME\")\n",
    "c.SetLogy()\n",
    "c.Draw()"
   ]
  },
  {
   "cell_type": "markdown",
   "metadata": {},
   "source": [
    "same **split** by hard pt bin"
   ]
  },
  {
   "cell_type": "code",
   "execution_count": null,
   "metadata": {},
   "outputs": [],
   "source": [
    "%jsroot on\n",
    "c = ROOT.TCanvas(\"myCanvasName\",\"The Canvas Title\",800,400)\n",
    "\n",
    "start = True\n",
    "for fpath in sorted(glob('../ana_results/iter3/LHC16h3/ptbin*/AnalysisResults.root'), key=lambda x: -int(x.split('/')[-2][5:])):\n",
    "    ptbin = fpath.split('/')[-2]\n",
    "    print(fpath,ptbin)\n",
    "    \n",
    "    tree_name = 'JetTree_AliAnalysisTaskJetExtractor_Jet_AKTChargedR040_tracks_pT0150_E_scheme_udsgJets'\n",
    "    froot = ROOT.TFile(fpath)\n",
    "    tree = froot.Get(tree_name)\n",
    "    h = ROOT.TH1D(f'h_{ptbin}', f'h_{ptbin}', 100,0,200)\n",
    "    tree.Draw(f\"Jet_Pt >> h_{ptbin}\", \"\", \"goff\")\n",
    "    h.Scale(scaling_factor[ptbin])  # hardcoded\n",
    "#     h.Scale(scaling_factor_calc[ptbin]) # calculated\n",
    "    if start: \n",
    "        h.SetMaximum(1e7)\n",
    "        h.DrawCopy(\"HIST\")\n",
    "    else: \n",
    "        h.DrawCopy(\"HIST,SAME\")\n",
    "    start = False\n",
    "\n",
    "c.SetLogy()\n",
    "c.Draw()"
   ]
  },
  {
   "cell_type": "code",
   "execution_count": null,
   "metadata": {},
   "outputs": [],
   "source": []
  }
 ],
 "metadata": {
  "kernelspec": {
   "display_name": "Python 3",
   "language": "python",
   "name": "python3"
  },
  "language_info": {
   "codemirror_mode": {
    "name": "ipython",
    "version": 3
   },
   "file_extension": ".py",
   "mimetype": "text/x-python",
   "name": "python",
   "nbconvert_exporter": "python",
   "pygments_lexer": "ipython3",
   "version": "3.7.6"
  },
  "toc": {
   "base_numbering": 1,
   "nav_menu": {},
   "number_sections": true,
   "sideBar": true,
   "skip_h1_title": false,
   "title_cell": "Table of Contents",
   "title_sidebar": "Contents",
   "toc_cell": false,
   "toc_position": {},
   "toc_section_display": true,
   "toc_window_display": false
  }
 },
 "nbformat": 4,
 "nbformat_minor": 4
}
